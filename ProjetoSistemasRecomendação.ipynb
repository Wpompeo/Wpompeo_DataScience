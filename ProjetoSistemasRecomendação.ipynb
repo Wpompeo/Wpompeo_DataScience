{
  "nbformat": 4,
  "nbformat_minor": 0,
  "metadata": {
    "colab": {
      "provenance": [],
      "authorship_tag": "ABX9TyOgwlk9LrtF6Nj7pk8cmQLc",
      "include_colab_link": true
    },
    "kernelspec": {
      "name": "python3",
      "display_name": "Python 3"
    },
    "language_info": {
      "name": "python"
    }
  },
  "cells": [
    {
      "cell_type": "markdown",
      "metadata": {
        "id": "view-in-github",
        "colab_type": "text"
      },
      "source": [
        "<a href=\"https://colab.research.google.com/github/Wpompeo/Wpompeo_DataScience/blob/master/ProjetoSistemasRecomenda%C3%A7%C3%A3o.ipynb\" target=\"_parent\"><img src=\"https://colab.research.google.com/assets/colab-badge.svg\" alt=\"Open In Colab\"/></a>"
      ]
    },
    {
      "cell_type": "markdown",
      "source": [
        "### Neste notebook, temos algumas informações do arquivo que irei utilizar para o projeto da disciplina de **Sistemas de Recomendação** do curso de [*Big Data e Inteligência Analítica*](https://www.uniritter.edu.br/graduacao/big-data-e-inteligencia-analitica-2/).\n",
        "\n",
        "---\n",
        "#### O tema abordado, será o suicídio no Brasil, um tema delicado que vem sendo tratado cada vez mais em campanhas do *Setembro Amarelo*.\n",
        "\n",
        "<center><img width=\"50%\" src=\"data:image/jpeg;base64,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\"></center>\n"
      ],
      "metadata": {
        "id": "fV1R3PaqZROO"
      }
    },
    {
      "cell_type": "markdown",
      "source": [
        "## Descrição dos dados utilizados sobre o suicídio.\n",
        "\n",
        "O conjunto de dados que irei utilizar, está disponível nesta [página](https://www.kaggle.com/russellyates88/suicide-rates-overview-1985-to-2016). O arquivo foi baixado para o meu repositório do *github*, local de onde vamos carrega-lo para iniciar nossa análise."
      ],
      "metadata": {
        "id": "XF_JznYkeOj7"
      }
    },
    {
      "cell_type": "markdown",
      "source": [
        "# Importando Dados:"
      ],
      "metadata": {
        "id": "xEFuzVhob_Zi"
      }
    },
    {
      "cell_type": "code",
      "execution_count": 2,
      "metadata": {
        "id": "6Hlz5OyMZH8I"
      },
      "outputs": [],
      "source": [
        "# Importar pacotes de bibliotecas necessários.\n",
        "\n",
        "import numpy as np\n",
        "import pandas as pd\n",
        "import matplotlib.pyplot as plt\n",
        "import seaborn as sns\n",
        "\n",
        "%matplotlib inline"
      ]
    },
    {
      "cell_type": "code",
      "source": [
        "# Importando os dados sobre o suicídio para um DataFrame.\n",
        "\n",
        "df = pd.read_csv(\"https://raw.githubusercontent.com/Wpompeo/Wpompeo_DataScience/master/SuicideMundial.csv\")"
      ],
      "metadata": {
        "id": "cLDokCDldNTC"
      },
      "execution_count": 3,
      "outputs": []
    },
    {
      "cell_type": "code",
      "source": [
        "# Conhecendo nosso DataFrame\n",
        "df.head()"
      ],
      "metadata": {
        "colab": {
          "base_uri": "https://localhost:8080/",
          "height": 250
        },
        "id": "glspkVjNgGGE",
        "outputId": "68315966-a276-4db1-b61b-3a4127860990"
      },
      "execution_count": 4,
      "outputs": [
        {
          "output_type": "execute_result",
          "data": {
            "text/plain": [
              "   country  year     sex          age  suicides_no  population  \\\n",
              "0  Albania  1987    male  15-24 years           21      312900   \n",
              "1  Albania  1987    male  35-54 years           16      308000   \n",
              "2  Albania  1987  female  15-24 years           14      289700   \n",
              "3  Albania  1987    male    75+ years            1       21800   \n",
              "4  Albania  1987    male  25-34 years            9      274300   \n",
              "\n",
              "   suicides/100k pop country-year  HDI for year  gdp_for_year ($)   \\\n",
              "0               6.71  Albania1987           NaN      2,156,624,900   \n",
              "1               5.19  Albania1987           NaN      2,156,624,900   \n",
              "2               4.83  Albania1987           NaN      2,156,624,900   \n",
              "3               4.59  Albania1987           NaN      2,156,624,900   \n",
              "4               3.28  Albania1987           NaN      2,156,624,900   \n",
              "\n",
              "   gdp_per_capita ($)       generation  \n",
              "0                 796     Generation X  \n",
              "1                 796           Silent  \n",
              "2                 796     Generation X  \n",
              "3                 796  G.I. Generation  \n",
              "4                 796          Boomers  "
            ],
            "text/html": [
              "\n",
              "  <div id=\"df-f7d142c9-c3c5-466e-ac74-9c015606a367\">\n",
              "    <div class=\"colab-df-container\">\n",
              "      <div>\n",
              "<style scoped>\n",
              "    .dataframe tbody tr th:only-of-type {\n",
              "        vertical-align: middle;\n",
              "    }\n",
              "\n",
              "    .dataframe tbody tr th {\n",
              "        vertical-align: top;\n",
              "    }\n",
              "\n",
              "    .dataframe thead th {\n",
              "        text-align: right;\n",
              "    }\n",
              "</style>\n",
              "<table border=\"1\" class=\"dataframe\">\n",
              "  <thead>\n",
              "    <tr style=\"text-align: right;\">\n",
              "      <th></th>\n",
              "      <th>country</th>\n",
              "      <th>year</th>\n",
              "      <th>sex</th>\n",
              "      <th>age</th>\n",
              "      <th>suicides_no</th>\n",
              "      <th>population</th>\n",
              "      <th>suicides/100k pop</th>\n",
              "      <th>country-year</th>\n",
              "      <th>HDI for year</th>\n",
              "      <th>gdp_for_year ($)</th>\n",
              "      <th>gdp_per_capita ($)</th>\n",
              "      <th>generation</th>\n",
              "    </tr>\n",
              "  </thead>\n",
              "  <tbody>\n",
              "    <tr>\n",
              "      <th>0</th>\n",
              "      <td>Albania</td>\n",
              "      <td>1987</td>\n",
              "      <td>male</td>\n",
              "      <td>15-24 years</td>\n",
              "      <td>21</td>\n",
              "      <td>312900</td>\n",
              "      <td>6.71</td>\n",
              "      <td>Albania1987</td>\n",
              "      <td>NaN</td>\n",
              "      <td>2,156,624,900</td>\n",
              "      <td>796</td>\n",
              "      <td>Generation X</td>\n",
              "    </tr>\n",
              "    <tr>\n",
              "      <th>1</th>\n",
              "      <td>Albania</td>\n",
              "      <td>1987</td>\n",
              "      <td>male</td>\n",
              "      <td>35-54 years</td>\n",
              "      <td>16</td>\n",
              "      <td>308000</td>\n",
              "      <td>5.19</td>\n",
              "      <td>Albania1987</td>\n",
              "      <td>NaN</td>\n",
              "      <td>2,156,624,900</td>\n",
              "      <td>796</td>\n",
              "      <td>Silent</td>\n",
              "    </tr>\n",
              "    <tr>\n",
              "      <th>2</th>\n",
              "      <td>Albania</td>\n",
              "      <td>1987</td>\n",
              "      <td>female</td>\n",
              "      <td>15-24 years</td>\n",
              "      <td>14</td>\n",
              "      <td>289700</td>\n",
              "      <td>4.83</td>\n",
              "      <td>Albania1987</td>\n",
              "      <td>NaN</td>\n",
              "      <td>2,156,624,900</td>\n",
              "      <td>796</td>\n",
              "      <td>Generation X</td>\n",
              "    </tr>\n",
              "    <tr>\n",
              "      <th>3</th>\n",
              "      <td>Albania</td>\n",
              "      <td>1987</td>\n",
              "      <td>male</td>\n",
              "      <td>75+ years</td>\n",
              "      <td>1</td>\n",
              "      <td>21800</td>\n",
              "      <td>4.59</td>\n",
              "      <td>Albania1987</td>\n",
              "      <td>NaN</td>\n",
              "      <td>2,156,624,900</td>\n",
              "      <td>796</td>\n",
              "      <td>G.I. Generation</td>\n",
              "    </tr>\n",
              "    <tr>\n",
              "      <th>4</th>\n",
              "      <td>Albania</td>\n",
              "      <td>1987</td>\n",
              "      <td>male</td>\n",
              "      <td>25-34 years</td>\n",
              "      <td>9</td>\n",
              "      <td>274300</td>\n",
              "      <td>3.28</td>\n",
              "      <td>Albania1987</td>\n",
              "      <td>NaN</td>\n",
              "      <td>2,156,624,900</td>\n",
              "      <td>796</td>\n",
              "      <td>Boomers</td>\n",
              "    </tr>\n",
              "  </tbody>\n",
              "</table>\n",
              "</div>\n",
              "      <button class=\"colab-df-convert\" onclick=\"convertToInteractive('df-f7d142c9-c3c5-466e-ac74-9c015606a367')\"\n",
              "              title=\"Convert this dataframe to an interactive table.\"\n",
              "              style=\"display:none;\">\n",
              "        \n",
              "  <svg xmlns=\"http://www.w3.org/2000/svg\" height=\"24px\"viewBox=\"0 0 24 24\"\n",
              "       width=\"24px\">\n",
              "    <path d=\"M0 0h24v24H0V0z\" fill=\"none\"/>\n",
              "    <path d=\"M18.56 5.44l.94 2.06.94-2.06 2.06-.94-2.06-.94-.94-2.06-.94 2.06-2.06.94zm-11 1L8.5 8.5l.94-2.06 2.06-.94-2.06-.94L8.5 2.5l-.94 2.06-2.06.94zm10 10l.94 2.06.94-2.06 2.06-.94-2.06-.94-.94-2.06-.94 2.06-2.06.94z\"/><path d=\"M17.41 7.96l-1.37-1.37c-.4-.4-.92-.59-1.43-.59-.52 0-1.04.2-1.43.59L10.3 9.45l-7.72 7.72c-.78.78-.78 2.05 0 2.83L4 21.41c.39.39.9.59 1.41.59.51 0 1.02-.2 1.41-.59l7.78-7.78 2.81-2.81c.8-.78.8-2.07 0-2.86zM5.41 20L4 18.59l7.72-7.72 1.47 1.35L5.41 20z\"/>\n",
              "  </svg>\n",
              "      </button>\n",
              "      \n",
              "  <style>\n",
              "    .colab-df-container {\n",
              "      display:flex;\n",
              "      flex-wrap:wrap;\n",
              "      gap: 12px;\n",
              "    }\n",
              "\n",
              "    .colab-df-convert {\n",
              "      background-color: #E8F0FE;\n",
              "      border: none;\n",
              "      border-radius: 50%;\n",
              "      cursor: pointer;\n",
              "      display: none;\n",
              "      fill: #1967D2;\n",
              "      height: 32px;\n",
              "      padding: 0 0 0 0;\n",
              "      width: 32px;\n",
              "    }\n",
              "\n",
              "    .colab-df-convert:hover {\n",
              "      background-color: #E2EBFA;\n",
              "      box-shadow: 0px 1px 2px rgba(60, 64, 67, 0.3), 0px 1px 3px 1px rgba(60, 64, 67, 0.15);\n",
              "      fill: #174EA6;\n",
              "    }\n",
              "\n",
              "    [theme=dark] .colab-df-convert {\n",
              "      background-color: #3B4455;\n",
              "      fill: #D2E3FC;\n",
              "    }\n",
              "\n",
              "    [theme=dark] .colab-df-convert:hover {\n",
              "      background-color: #434B5C;\n",
              "      box-shadow: 0px 1px 3px 1px rgba(0, 0, 0, 0.15);\n",
              "      filter: drop-shadow(0px 1px 2px rgba(0, 0, 0, 0.3));\n",
              "      fill: #FFFFFF;\n",
              "    }\n",
              "  </style>\n",
              "\n",
              "      <script>\n",
              "        const buttonEl =\n",
              "          document.querySelector('#df-f7d142c9-c3c5-466e-ac74-9c015606a367 button.colab-df-convert');\n",
              "        buttonEl.style.display =\n",
              "          google.colab.kernel.accessAllowed ? 'block' : 'none';\n",
              "\n",
              "        async function convertToInteractive(key) {\n",
              "          const element = document.querySelector('#df-f7d142c9-c3c5-466e-ac74-9c015606a367');\n",
              "          const dataTable =\n",
              "            await google.colab.kernel.invokeFunction('convertToInteractive',\n",
              "                                                     [key], {});\n",
              "          if (!dataTable) return;\n",
              "\n",
              "          const docLinkHtml = 'Like what you see? Visit the ' +\n",
              "            '<a target=\"_blank\" href=https://colab.research.google.com/notebooks/data_table.ipynb>data table notebook</a>'\n",
              "            + ' to learn more about interactive tables.';\n",
              "          element.innerHTML = '';\n",
              "          dataTable['output_type'] = 'display_data';\n",
              "          await google.colab.output.renderOutput(dataTable, element);\n",
              "          const docLink = document.createElement('div');\n",
              "          docLink.innerHTML = docLinkHtml;\n",
              "          element.appendChild(docLink);\n",
              "        }\n",
              "      </script>\n",
              "    </div>\n",
              "  </div>\n",
              "  "
            ]
          },
          "metadata": {},
          "execution_count": 4
        }
      ]
    },
    {
      "cell_type": "code",
      "source": [
        "# Verificar o tamanho do DataFrame\n",
        "\n",
        "print(\"Variáveis: \", df.shape[1])\n",
        "print(\"Entradas: \", df.shape[0])"
      ],
      "metadata": {
        "colab": {
          "base_uri": "https://localhost:8080/"
        },
        "id": "PSmxbMx7jorl",
        "outputId": "d36b980e-fd24-40ed-e040-388839f3f259"
      },
      "execution_count": 5,
      "outputs": [
        {
          "output_type": "stream",
          "name": "stdout",
          "text": [
            "Variáveis:  12\n",
            "Entradas:  27820\n"
          ]
        }
      ]
    },
    {
      "cell_type": "markdown",
      "source": [
        " O Dataframe carregado é composto de 12 colunas e 27820 entradas."
      ],
      "metadata": {
        "id": "CO9tY2WRkNBx"
      }
    },
    {
      "cell_type": "code",
      "source": [
        "# Conhecendo as colunas do Dataframe\n",
        "df.columns"
      ],
      "metadata": {
        "colab": {
          "base_uri": "https://localhost:8080/"
        },
        "id": "iHwfn7vBkL6c",
        "outputId": "bafb7693-cebb-43c8-94b1-ae0c4c8d679e"
      },
      "execution_count": 6,
      "outputs": [
        {
          "output_type": "execute_result",
          "data": {
            "text/plain": [
              "Index(['country', 'year', 'sex', 'age', 'suicides_no', 'population',\n",
              "       'suicides/100k pop', 'country-year', 'HDI for year',\n",
              "       ' gdp_for_year ($) ', 'gdp_per_capita ($)', 'generation'],\n",
              "      dtype='object')"
            ]
          },
          "metadata": {},
          "execution_count": 6
        }
      ]
    },
    {
      "cell_type": "markdown",
      "source": [
        "### Dicionário de variáveis:\n",
        "\n",
        "* **country:** país onde os dados foram registrados\n",
        "  * 101 países\n",
        "* **year:** ano em que os dados foram registrados\n",
        "  * 1987 a 2016\n",
        "* **sex:** sexo considerado no registro\n",
        "  * *male* - masculino\n",
        "  * *female* - feminino\n",
        "* **age**: faixa etária considerada\n",
        "  * 5-14 anos\n",
        "  * 15-24 anos\n",
        "  * 25-34 anos\n",
        "  * 35-54 anos\n",
        "  * 55-74 anos\n",
        "  * 75+ anos\n",
        "* **suicides_no:** número de suicídios\n",
        "* **population:** população para o grupo\n",
        "* **suicides/100k pop:** número de suicídios por 100 mil habitantes\n",
        "* **country_year:** identificador contendo `country` + `year`\n",
        "* **HDI for year:** Índice de Desenvolvimento Humano (IDH) para o ano\n",
        "* **gdp_for_year:** Produto Interno Bruto (PIB) para o ano\n",
        "* **gdp_per_capita:** Produto Interno Bruto (PIB) per capita\n",
        "* **generation:** Gerador dos dados"
      ],
      "metadata": {
        "id": "rxt1WGI_k1zp"
      }
    },
    {
      "cell_type": "markdown",
      "source": [
        "### Como o objetivo do trabalho é analisar somente os dados referentes ao **Brasil**, irei criar um novo DataFrame somente com os dados do Brasil."
      ],
      "metadata": {
        "id": "zJ_t60WRnyc8"
      }
    },
    {
      "cell_type": "code",
      "source": [
        "# Gerar Dataframe com os dados referentes ao Brasil.\n",
        "\n",
        "df_brasil = df[df.country == \"Brazil\"].copy()"
      ],
      "metadata": {
        "id": "ht9TTmXAoIgY"
      },
      "execution_count": 7,
      "outputs": []
    },
    {
      "cell_type": "code",
      "source": [
        "# Verificando o formato do nosso novo Dataframe\n",
        "\n",
        "print(\"Formato do df_brasil: \", df_brasil.shape)\n",
        "print(\"Variáveis: \", df_brasil.shape[1])\n",
        "print(\"Entradas: \", df_brasil.shape[0])\n"
      ],
      "metadata": {
        "colab": {
          "base_uri": "https://localhost:8080/"
        },
        "id": "N36Xy6hioZ58",
        "outputId": "d2edabaf-474e-4316-9283-05bdbc0a207f"
      },
      "execution_count": 8,
      "outputs": [
        {
          "output_type": "stream",
          "name": "stdout",
          "text": [
            "Formato do df_brasil:  (372, 12)\n",
            "Variáveis:  12\n",
            "Entradas:  372\n"
          ]
        }
      ]
    },
    {
      "cell_type": "code",
      "source": [
        "# Conhecendo o novo Dataframe\n",
        "\n",
        "df_brasil.head()"
      ],
      "metadata": {
        "colab": {
          "base_uri": "https://localhost:8080/",
          "height": 250
        },
        "id": "Ref6h_Xg5WyT",
        "outputId": "0751016b-d13b-49cf-8631-89e186ff6bad"
      },
      "execution_count": 9,
      "outputs": [
        {
          "output_type": "execute_result",
          "data": {
            "text/plain": [
              "     country  year   sex          age  suicides_no  population  \\\n",
              "4172  Brazil  1985  male    75+ years          129      840300   \n",
              "4173  Brazil  1985  male  55-74 years          535     5364900   \n",
              "4174  Brazil  1985  male  35-54 years         1011    11986300   \n",
              "4175  Brazil  1985  male  25-34 years          791    10762900   \n",
              "4176  Brazil  1985  male  15-24 years          661    13834000   \n",
              "\n",
              "      suicides/100k pop country-year  HDI for year  gdp_for_year ($)   \\\n",
              "4172              15.35   Brazil1985         0.576    222,942,790,435   \n",
              "4173               9.97   Brazil1985         0.576    222,942,790,435   \n",
              "4174               8.43   Brazil1985         0.576    222,942,790,435   \n",
              "4175               7.35   Brazil1985         0.576    222,942,790,435   \n",
              "4176               4.78   Brazil1985         0.576    222,942,790,435   \n",
              "\n",
              "      gdp_per_capita ($)       generation  \n",
              "4172                1898  G.I. Generation  \n",
              "4173                1898  G.I. Generation  \n",
              "4174                1898           Silent  \n",
              "4175                1898          Boomers  \n",
              "4176                1898     Generation X  "
            ],
            "text/html": [
              "\n",
              "  <div id=\"df-f6b7c338-04b5-4e6a-b3d8-6a8536b4b493\">\n",
              "    <div class=\"colab-df-container\">\n",
              "      <div>\n",
              "<style scoped>\n",
              "    .dataframe tbody tr th:only-of-type {\n",
              "        vertical-align: middle;\n",
              "    }\n",
              "\n",
              "    .dataframe tbody tr th {\n",
              "        vertical-align: top;\n",
              "    }\n",
              "\n",
              "    .dataframe thead th {\n",
              "        text-align: right;\n",
              "    }\n",
              "</style>\n",
              "<table border=\"1\" class=\"dataframe\">\n",
              "  <thead>\n",
              "    <tr style=\"text-align: right;\">\n",
              "      <th></th>\n",
              "      <th>country</th>\n",
              "      <th>year</th>\n",
              "      <th>sex</th>\n",
              "      <th>age</th>\n",
              "      <th>suicides_no</th>\n",
              "      <th>population</th>\n",
              "      <th>suicides/100k pop</th>\n",
              "      <th>country-year</th>\n",
              "      <th>HDI for year</th>\n",
              "      <th>gdp_for_year ($)</th>\n",
              "      <th>gdp_per_capita ($)</th>\n",
              "      <th>generation</th>\n",
              "    </tr>\n",
              "  </thead>\n",
              "  <tbody>\n",
              "    <tr>\n",
              "      <th>4172</th>\n",
              "      <td>Brazil</td>\n",
              "      <td>1985</td>\n",
              "      <td>male</td>\n",
              "      <td>75+ years</td>\n",
              "      <td>129</td>\n",
              "      <td>840300</td>\n",
              "      <td>15.35</td>\n",
              "      <td>Brazil1985</td>\n",
              "      <td>0.576</td>\n",
              "      <td>222,942,790,435</td>\n",
              "      <td>1898</td>\n",
              "      <td>G.I. Generation</td>\n",
              "    </tr>\n",
              "    <tr>\n",
              "      <th>4173</th>\n",
              "      <td>Brazil</td>\n",
              "      <td>1985</td>\n",
              "      <td>male</td>\n",
              "      <td>55-74 years</td>\n",
              "      <td>535</td>\n",
              "      <td>5364900</td>\n",
              "      <td>9.97</td>\n",
              "      <td>Brazil1985</td>\n",
              "      <td>0.576</td>\n",
              "      <td>222,942,790,435</td>\n",
              "      <td>1898</td>\n",
              "      <td>G.I. Generation</td>\n",
              "    </tr>\n",
              "    <tr>\n",
              "      <th>4174</th>\n",
              "      <td>Brazil</td>\n",
              "      <td>1985</td>\n",
              "      <td>male</td>\n",
              "      <td>35-54 years</td>\n",
              "      <td>1011</td>\n",
              "      <td>11986300</td>\n",
              "      <td>8.43</td>\n",
              "      <td>Brazil1985</td>\n",
              "      <td>0.576</td>\n",
              "      <td>222,942,790,435</td>\n",
              "      <td>1898</td>\n",
              "      <td>Silent</td>\n",
              "    </tr>\n",
              "    <tr>\n",
              "      <th>4175</th>\n",
              "      <td>Brazil</td>\n",
              "      <td>1985</td>\n",
              "      <td>male</td>\n",
              "      <td>25-34 years</td>\n",
              "      <td>791</td>\n",
              "      <td>10762900</td>\n",
              "      <td>7.35</td>\n",
              "      <td>Brazil1985</td>\n",
              "      <td>0.576</td>\n",
              "      <td>222,942,790,435</td>\n",
              "      <td>1898</td>\n",
              "      <td>Boomers</td>\n",
              "    </tr>\n",
              "    <tr>\n",
              "      <th>4176</th>\n",
              "      <td>Brazil</td>\n",
              "      <td>1985</td>\n",
              "      <td>male</td>\n",
              "      <td>15-24 years</td>\n",
              "      <td>661</td>\n",
              "      <td>13834000</td>\n",
              "      <td>4.78</td>\n",
              "      <td>Brazil1985</td>\n",
              "      <td>0.576</td>\n",
              "      <td>222,942,790,435</td>\n",
              "      <td>1898</td>\n",
              "      <td>Generation X</td>\n",
              "    </tr>\n",
              "  </tbody>\n",
              "</table>\n",
              "</div>\n",
              "      <button class=\"colab-df-convert\" onclick=\"convertToInteractive('df-f6b7c338-04b5-4e6a-b3d8-6a8536b4b493')\"\n",
              "              title=\"Convert this dataframe to an interactive table.\"\n",
              "              style=\"display:none;\">\n",
              "        \n",
              "  <svg xmlns=\"http://www.w3.org/2000/svg\" height=\"24px\"viewBox=\"0 0 24 24\"\n",
              "       width=\"24px\">\n",
              "    <path d=\"M0 0h24v24H0V0z\" fill=\"none\"/>\n",
              "    <path d=\"M18.56 5.44l.94 2.06.94-2.06 2.06-.94-2.06-.94-.94-2.06-.94 2.06-2.06.94zm-11 1L8.5 8.5l.94-2.06 2.06-.94-2.06-.94L8.5 2.5l-.94 2.06-2.06.94zm10 10l.94 2.06.94-2.06 2.06-.94-2.06-.94-.94-2.06-.94 2.06-2.06.94z\"/><path d=\"M17.41 7.96l-1.37-1.37c-.4-.4-.92-.59-1.43-.59-.52 0-1.04.2-1.43.59L10.3 9.45l-7.72 7.72c-.78.78-.78 2.05 0 2.83L4 21.41c.39.39.9.59 1.41.59.51 0 1.02-.2 1.41-.59l7.78-7.78 2.81-2.81c.8-.78.8-2.07 0-2.86zM5.41 20L4 18.59l7.72-7.72 1.47 1.35L5.41 20z\"/>\n",
              "  </svg>\n",
              "      </button>\n",
              "      \n",
              "  <style>\n",
              "    .colab-df-container {\n",
              "      display:flex;\n",
              "      flex-wrap:wrap;\n",
              "      gap: 12px;\n",
              "    }\n",
              "\n",
              "    .colab-df-convert {\n",
              "      background-color: #E8F0FE;\n",
              "      border: none;\n",
              "      border-radius: 50%;\n",
              "      cursor: pointer;\n",
              "      display: none;\n",
              "      fill: #1967D2;\n",
              "      height: 32px;\n",
              "      padding: 0 0 0 0;\n",
              "      width: 32px;\n",
              "    }\n",
              "\n",
              "    .colab-df-convert:hover {\n",
              "      background-color: #E2EBFA;\n",
              "      box-shadow: 0px 1px 2px rgba(60, 64, 67, 0.3), 0px 1px 3px 1px rgba(60, 64, 67, 0.15);\n",
              "      fill: #174EA6;\n",
              "    }\n",
              "\n",
              "    [theme=dark] .colab-df-convert {\n",
              "      background-color: #3B4455;\n",
              "      fill: #D2E3FC;\n",
              "    }\n",
              "\n",
              "    [theme=dark] .colab-df-convert:hover {\n",
              "      background-color: #434B5C;\n",
              "      box-shadow: 0px 1px 3px 1px rgba(0, 0, 0, 0.15);\n",
              "      filter: drop-shadow(0px 1px 2px rgba(0, 0, 0, 0.3));\n",
              "      fill: #FFFFFF;\n",
              "    }\n",
              "  </style>\n",
              "\n",
              "      <script>\n",
              "        const buttonEl =\n",
              "          document.querySelector('#df-f6b7c338-04b5-4e6a-b3d8-6a8536b4b493 button.colab-df-convert');\n",
              "        buttonEl.style.display =\n",
              "          google.colab.kernel.accessAllowed ? 'block' : 'none';\n",
              "\n",
              "        async function convertToInteractive(key) {\n",
              "          const element = document.querySelector('#df-f6b7c338-04b5-4e6a-b3d8-6a8536b4b493');\n",
              "          const dataTable =\n",
              "            await google.colab.kernel.invokeFunction('convertToInteractive',\n",
              "                                                     [key], {});\n",
              "          if (!dataTable) return;\n",
              "\n",
              "          const docLinkHtml = 'Like what you see? Visit the ' +\n",
              "            '<a target=\"_blank\" href=https://colab.research.google.com/notebooks/data_table.ipynb>data table notebook</a>'\n",
              "            + ' to learn more about interactive tables.';\n",
              "          element.innerHTML = '';\n",
              "          dataTable['output_type'] = 'display_data';\n",
              "          await google.colab.output.renderOutput(dataTable, element);\n",
              "          const docLink = document.createElement('div');\n",
              "          docLink.innerHTML = docLinkHtml;\n",
              "          element.appendChild(docLink);\n",
              "        }\n",
              "      </script>\n",
              "    </div>\n",
              "  </div>\n",
              "  "
            ]
          },
          "metadata": {},
          "execution_count": 9
        }
      ]
    }
  ]
}