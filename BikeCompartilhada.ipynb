{
  "nbformat": 4,
  "nbformat_minor": 0,
  "metadata": {
    "colab": {
      "name": "BikeCompartilhada",
      "provenance": [],
      "collapsed_sections": [],
      "authorship_tag": "ABX9TyNW0xfmnUxYcME3V5MadGd/",
      "include_colab_link": true
    },
    "kernelspec": {
      "name": "python3",
      "display_name": "Python 3"
    }
  },
  "cells": [
    {
      "cell_type": "markdown",
      "metadata": {
        "id": "view-in-github",
        "colab_type": "text"
      },
      "source": [
        "<a href=\"https://colab.research.google.com/github/Wpompeo/Wpompeo_DataScience/blob/master/BikeCompartilhada.ipynb\" target=\"_parent\"><img src=\"https://colab.research.google.com/assets/colab-badge.svg\" alt=\"Open In Colab\"/></a>"
      ]
    },
    {
      "cell_type": "markdown",
      "metadata": {
        "id": "fE_YMdAhfqY2"
      },
      "source": [
        "## Informações Estatísticas com Pandas.\r\n",
        "Como cientista de dados, você vai ter que mergulhar, pesquisar cada vez mais no campo de *Estatística*.\r\n",
        "Por trás das análises e modelos de *machine learning*, estão pilares baseados na teoria de *matemática e estatística*. Nós não precisaremos conhecer todos, porém é obrigatório dominar os conceitos dos principais.\r\n",
        "A *estatística* revela muitas coisas imediatamente, validando ou descartando hipóteses logo na fase inicial de um projeto de *Data Science*.\r\n",
        "\r\n",
        "<center><img src=\"https://lh3.googleusercontent.com/proxy/Enux_AslhqS7kSP_QgiU40iufHopy7rhqxkCfqsIHY0VR0FJNaurbkQDYOCLiVJicx9bEXFU-qh7AJ-BlvwpPshgV7Du5mhs40kdOc6NhdA\"></center>\r\n",
        "\r\n",
        "Para conhecer algumas das principais funções do Pandas, vou utilizar o *dataset* do projeto **[+BIKE](http://maisbikecompartilhada.com.br)**, que distribui bicicletas em pontos estratégicos de Brasília-DF, oferecendo uma solução de transporte que contribui com a mobilidade das pessoas na capital.\r\n",
        "\r\n",
        "Caso deseje conhecer a base de dados original, basta acessar [este link](https://www.kaggle.com/joseguilhermelopes/bike-sharing-system-in-brasilia-brazil/downloads/bike-sharing-system-in-brasilia-brazil.zip/1#df_rides.csv)."
      ]
    },
    {
      "cell_type": "code",
      "metadata": {
        "id": "WtfNwDogh0Rv"
      },
      "source": [
        "#importar pacotes necessários.\r\n",
        "import pandas as pd\r\n",
        "\r\n",
        "#importar o dataset\r\n",
        "df = pd.read_csv(\"http://dl.dropboxusercontent.com/s/yyfeoxqw61o3iel/df_rides.csv\")"
      ],
      "execution_count": null,
      "outputs": []
    },
    {
      "cell_type": "code",
      "metadata": {
        "colab": {
          "base_uri": "https://localhost:8080/",
          "height": 204
        },
        "id": "AZBwm_pClDK7",
        "outputId": "290b7c31-a5b7-4ea8-a8bb-5f27edf59af6"
      },
      "source": [
        "#Ver as 5 primeiras entradas.\r\n",
        "df.head()"
      ],
      "execution_count": null,
      "outputs": [
        {
          "output_type": "execute_result",
          "data": {
            "text/html": [
              "<div>\n",
              "<style scoped>\n",
              "    .dataframe tbody tr th:only-of-type {\n",
              "        vertical-align: middle;\n",
              "    }\n",
              "\n",
              "    .dataframe tbody tr th {\n",
              "        vertical-align: top;\n",
              "    }\n",
              "\n",
              "    .dataframe thead th {\n",
              "        text-align: right;\n",
              "    }\n",
              "</style>\n",
              "<table border=\"1\" class=\"dataframe\">\n",
              "  <thead>\n",
              "    <tr style=\"text-align: right;\">\n",
              "      <th></th>\n",
              "      <th>user_gender</th>\n",
              "      <th>user_birthdate</th>\n",
              "      <th>user_residence</th>\n",
              "      <th>ride_date</th>\n",
              "      <th>time_start</th>\n",
              "      <th>time_end</th>\n",
              "      <th>station_start</th>\n",
              "      <th>station_end</th>\n",
              "      <th>ride_duration</th>\n",
              "      <th>ride_late</th>\n",
              "    </tr>\n",
              "  </thead>\n",
              "  <tbody>\n",
              "    <tr>\n",
              "      <th>0</th>\n",
              "      <td>M</td>\n",
              "      <td>1971-06-08</td>\n",
              "      <td>NaN</td>\n",
              "      <td>2018-01-01</td>\n",
              "      <td>06:05:18</td>\n",
              "      <td>06:21:33</td>\n",
              "      <td>11 - Rodoviária 2</td>\n",
              "      <td>41 - Instituto de Artes</td>\n",
              "      <td>16.250000</td>\n",
              "      <td>0.0</td>\n",
              "    </tr>\n",
              "    <tr>\n",
              "      <th>1</th>\n",
              "      <td>M</td>\n",
              "      <td>1989-02-11</td>\n",
              "      <td>DF</td>\n",
              "      <td>2018-01-01</td>\n",
              "      <td>06:27:01</td>\n",
              "      <td>06:32:17</td>\n",
              "      <td>26 - Ministério da Saude</td>\n",
              "      <td>28 - CNMP - Conselho Nacional do Ministério Pú...</td>\n",
              "      <td>5.266667</td>\n",
              "      <td>0.0</td>\n",
              "    </tr>\n",
              "    <tr>\n",
              "      <th>2</th>\n",
              "      <td>M</td>\n",
              "      <td>1968-07-19</td>\n",
              "      <td>NaN</td>\n",
              "      <td>2018-01-01</td>\n",
              "      <td>06:29:33</td>\n",
              "      <td>06:44:57</td>\n",
              "      <td>11 - Rodoviária 2</td>\n",
              "      <td>43 - Biblioteca Central</td>\n",
              "      <td>15.400000</td>\n",
              "      <td>0.0</td>\n",
              "    </tr>\n",
              "    <tr>\n",
              "      <th>3</th>\n",
              "      <td>M</td>\n",
              "      <td>1991-12-19</td>\n",
              "      <td>NaN</td>\n",
              "      <td>2018-01-01</td>\n",
              "      <td>06:53:53</td>\n",
              "      <td>06:59:45</td>\n",
              "      <td>10 - Ministério dos Transportes</td>\n",
              "      <td>6 - Rodoviária</td>\n",
              "      <td>5.866667</td>\n",
              "      <td>0.0</td>\n",
              "    </tr>\n",
              "    <tr>\n",
              "      <th>4</th>\n",
              "      <td>M</td>\n",
              "      <td>1969-03-03</td>\n",
              "      <td>DF</td>\n",
              "      <td>2018-01-01</td>\n",
              "      <td>06:58:56</td>\n",
              "      <td>17:40:04</td>\n",
              "      <td>15 - Brasil 21</td>\n",
              "      <td>11 - Rodoviária 2</td>\n",
              "      <td>641.133333</td>\n",
              "      <td>1.0</td>\n",
              "    </tr>\n",
              "  </tbody>\n",
              "</table>\n",
              "</div>"
            ],
            "text/plain": [
              "  user_gender user_birthdate  ... ride_duration ride_late\n",
              "0           M     1971-06-08  ...     16.250000       0.0\n",
              "1           M     1989-02-11  ...      5.266667       0.0\n",
              "2           M     1968-07-19  ...     15.400000       0.0\n",
              "3           M     1991-12-19  ...      5.866667       0.0\n",
              "4           M     1969-03-03  ...    641.133333       1.0\n",
              "\n",
              "[5 rows x 10 columns]"
            ]
          },
          "metadata": {
            "tags": []
          },
          "execution_count": 4
        }
      ]
    },
    {
      "cell_type": "markdown",
      "metadata": {
        "id": "fmDTGnlbllv7"
      },
      "source": [
        "## Resumo das informações  estatísticas coletadas.\r\n",
        "\r\n",
        "Umas das maneiras mais simples de se iniciar uma *análise exploratória das variáveis numéricas é utilizando o método `describe()`.\r\n",
        "\r\n",
        "De imediato você obtém um resumo contendo algumas das principais informações relevantes.\r\n",
        "\r\n",
        "* **count** - quantidade de entradas válidas\r\n",
        "* **mean** - média dos valores\r\n",
        "* **std** - desvio padrão\r\n",
        "* **min** - menor valor da coluna\r\n",
        "* **25%** - percentil 25\r\n",
        "* **50%** - percentil 50 (e mediana)\r\n",
        "* **75%** - percentil 75\r\n",
        "* **max** - maior valor da coluna\r\n",
        "\r\n",
        "É possível identificar de cara colunas com valores ausentes e possíveis *outliers* (por exemplo, olhando o valor da mediana e comparando com valores máximos e mínimos)"
      ]
    },
    {
      "cell_type": "code",
      "metadata": {
        "colab": {
          "base_uri": "https://localhost:8080/",
          "height": 297
        },
        "id": "ELQuRFC2mvS0",
        "outputId": "3f1459b2-7f9f-4524-b6d1-a00a08288fef"
      },
      "source": [
        "df.describe()"
      ],
      "execution_count": null,
      "outputs": [
        {
          "output_type": "execute_result",
          "data": {
            "text/html": [
              "<div>\n",
              "<style scoped>\n",
              "    .dataframe tbody tr th:only-of-type {\n",
              "        vertical-align: middle;\n",
              "    }\n",
              "\n",
              "    .dataframe tbody tr th {\n",
              "        vertical-align: top;\n",
              "    }\n",
              "\n",
              "    .dataframe thead th {\n",
              "        text-align: right;\n",
              "    }\n",
              "</style>\n",
              "<table border=\"1\" class=\"dataframe\">\n",
              "  <thead>\n",
              "    <tr style=\"text-align: right;\">\n",
              "      <th></th>\n",
              "      <th>ride_duration</th>\n",
              "      <th>ride_late</th>\n",
              "    </tr>\n",
              "  </thead>\n",
              "  <tbody>\n",
              "    <tr>\n",
              "      <th>count</th>\n",
              "      <td>214148.000000</td>\n",
              "      <td>214148.000000</td>\n",
              "    </tr>\n",
              "    <tr>\n",
              "      <th>mean</th>\n",
              "      <td>29.915932</td>\n",
              "      <td>0.098829</td>\n",
              "    </tr>\n",
              "    <tr>\n",
              "      <th>std</th>\n",
              "      <td>58.857297</td>\n",
              "      <td>0.298433</td>\n",
              "    </tr>\n",
              "    <tr>\n",
              "      <th>min</th>\n",
              "      <td>3.000000</td>\n",
              "      <td>0.000000</td>\n",
              "    </tr>\n",
              "    <tr>\n",
              "      <th>25%</th>\n",
              "      <td>8.083333</td>\n",
              "      <td>0.000000</td>\n",
              "    </tr>\n",
              "    <tr>\n",
              "      <th>50%</th>\n",
              "      <td>14.200000</td>\n",
              "      <td>0.000000</td>\n",
              "    </tr>\n",
              "    <tr>\n",
              "      <th>75%</th>\n",
              "      <td>33.766667</td>\n",
              "      <td>0.000000</td>\n",
              "    </tr>\n",
              "    <tr>\n",
              "      <th>max</th>\n",
              "      <td>999.600000</td>\n",
              "      <td>1.000000</td>\n",
              "    </tr>\n",
              "  </tbody>\n",
              "</table>\n",
              "</div>"
            ],
            "text/plain": [
              "       ride_duration      ride_late\n",
              "count  214148.000000  214148.000000\n",
              "mean       29.915932       0.098829\n",
              "std        58.857297       0.298433\n",
              "min         3.000000       0.000000\n",
              "25%         8.083333       0.000000\n",
              "50%        14.200000       0.000000\n",
              "75%        33.766667       0.000000\n",
              "max       999.600000       1.000000"
            ]
          },
          "metadata": {
            "tags": []
          },
          "execution_count": 5
        }
      ]
    },
    {
      "cell_type": "markdown",
      "metadata": {
        "id": "DDfIuCMMoZDE"
      },
      "source": [
        "## Média\r\n",
        "\r\n",
        "Se quisermos obter a média de alguma variável numéricas, basta executar o método `mean()` na *Series*. Ou seja, basta selecionar aquele coluna em especial e executar `mean()`."
      ]
    },
    {
      "cell_type": "code",
      "metadata": {
        "colab": {
          "base_uri": "https://localhost:8080/"
        },
        "id": "CgttAa3hohVB",
        "outputId": "b74a653e-9f02-4df7-f7da-5863f6800b6b"
      },
      "source": [
        "#ver a média da coluna ride_duration\r\n",
        "df.ride_duration.mean()"
      ],
      "execution_count": null,
      "outputs": [
        {
          "output_type": "execute_result",
          "data": {
            "text/plain": [
              "29.915931894453134"
            ]
          },
          "metadata": {
            "tags": []
          },
          "execution_count": 6
        }
      ]
    },
    {
      "cell_type": "markdown",
      "metadata": {
        "id": "pBzdlj29pnf0"
      },
      "source": [
        "## Mediana\r\n",
        "\r\n",
        "Mediana é o valor que separa a metade maior e a metade menor de um conjunto de dados. Por exemplo, considere o conjunto `meus_dados = [1,1,2,4,9]`.\r\n",
        "\r\n",
        "O valor que \"está no meio\" é o número 2. Não confunda com a média, que é a soma de todos os valores dividido pela sua quantidade."
      ]
    },
    {
      "cell_type": "code",
      "metadata": {
        "colab": {
          "base_uri": "https://localhost:8080/"
        },
        "id": "RBGYLZVvp2f5",
        "outputId": "84d80665-4153-431a-f194-2461581d7aa1"
      },
      "source": [
        "#calcular mediana\r\n",
        "df.ride_duration.median()"
      ],
      "execution_count": null,
      "outputs": [
        {
          "output_type": "execute_result",
          "data": {
            "text/plain": [
              "14.2"
            ]
          },
          "metadata": {
            "tags": []
          },
          "execution_count": 7
        }
      ]
    },
    {
      "cell_type": "markdown",
      "metadata": {
        "id": "_iZo1axiqESv"
      },
      "source": [
        "## Desvio Padrão\r\n",
        "\r\n",
        "Desvio padrão é uma medida de dispersão em torno da média populacional de uma variável.\r\n",
        "\r\n",
        "$$SD = \\sqrt{\\frac{1}{n}\\sum_{i=1}^{n}(x_i - \\overline{x}) ^ 2}$$\r\n",
        "\r\n",
        "Falando simplificadamente, um número alto do desvio padrão indica que os dados estão bem espelhados em relação à sua média. Já um desvio padrão baixo mostra que os valores estão mais agrupados, mais \"juntos\".\r\n",
        "\r\n",
        "Por exemplo, na figura abaixo temos um exemplo de valores altos e baixos para o desvio padrão. Em vermelho os dados estão mais próximos à sua média, e em azul estão bem mais espalhados.\r\n",
        "\r\n",
        "<center><img src=\"https://upload.wikimedia.org/wikipedia/commons/thumb/f/f9/Comparison_standard_deviations.svg/400px-Comparison_standard_deviations.svg.png\"></center>\r\n",
        "\r\n",
        "Para quem não está acostumado com gráficos de distribuições, um exemplo que funciona muito bem é o do tiro ao alvo.\r\n",
        "\r\n",
        "Olhe na figura abaixo como os tiros estão localizados em cada uma das situações. Identifique mentalmente quais tem maior ou menor dispersão, ou seja, desvio padrão.\r\n",
        "\r\n",
        "<center><img src=\"https://raw.githubusercontent.com/carlosfab/dsnp2/master/img/precisao_exatidao.jpg\" height=\"250px\"></center>\r\n",
        "\r\n",
        "O conceito que eu quero que você se atente é o achatamento da curva. Como os valores se \"aglomeram\" em torno da média ou se dispersam em torno dela. Veja também mais essa outra figura abaixo, colocando as distribuições lado a lado.\r\n",
        "\r\n",
        "<center><img src=\"https://raw.githubusercontent.com/carlosfab/dsnp2/master/img/precisao_vs_exatidao2.jpg\" height=\"200px\"></center>\r\n",
        "\r\n",
        "Para calcular o desvio padrão de qualquer coluna, basta executar o método `std()` para a variável."
      ]
    },
    {
      "cell_type": "code",
      "metadata": {
        "colab": {
          "base_uri": "https://localhost:8080/"
        },
        "id": "IHYyzUoRqrwy",
        "outputId": "6ac9736f-ba6e-4cb3-8d98-baf54ce8ff33"
      },
      "source": [
        "#calcular desvio padrão\r\n",
        "df.ride_duration.std()"
      ],
      "execution_count": null,
      "outputs": [
        {
          "output_type": "execute_result",
          "data": {
            "text/plain": [
              "58.85729654164017"
            ]
          },
          "metadata": {
            "tags": []
          },
          "execution_count": 8
        }
      ]
    },
    {
      "cell_type": "markdown",
      "metadata": {
        "id": "nyiAK0Csq04Q"
      },
      "source": [
        "## Valores máximos e mínimos.\r\n",
        "\r\n",
        "Para calcular o valor máximo, basta executar o método `max()`, enquanto para o valor mínimo basta executar `min()`."
      ]
    },
    {
      "cell_type": "code",
      "metadata": {
        "colab": {
          "base_uri": "https://localhost:8080/"
        },
        "id": "twruwzdWrRmg",
        "outputId": "0e5702c1-4fb9-4918-dc72-88dbdcbf2f85"
      },
      "source": [
        "#resgatar valores máximos.\r\n",
        "df.ride_duration.max()"
      ],
      "execution_count": null,
      "outputs": [
        {
          "output_type": "execute_result",
          "data": {
            "text/plain": [
              "999.6"
            ]
          },
          "metadata": {
            "tags": []
          },
          "execution_count": 9
        }
      ]
    },
    {
      "cell_type": "code",
      "metadata": {
        "colab": {
          "base_uri": "https://localhost:8080/"
        },
        "id": "MnuQh2Ykrfhn",
        "outputId": "5b380090-6de9-4113-9710-f81b091922f3"
      },
      "source": [
        "#resgatar valores mínimos.\r\n",
        "df.ride_duration.min()"
      ],
      "execution_count": null,
      "outputs": [
        {
          "output_type": "execute_result",
          "data": {
            "text/plain": [
              "3.0"
            ]
          },
          "metadata": {
            "tags": []
          },
          "execution_count": 10
        }
      ]
    }
  ]
}