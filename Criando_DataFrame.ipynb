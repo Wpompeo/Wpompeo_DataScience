{
  "nbformat": 4,
  "nbformat_minor": 0,
  "metadata": {
    "colab": {
      "name": "Criando DataFrame",
      "provenance": [],
      "authorship_tag": "ABX9TyPlPiVsIBvw5Kg1ztzuhYkj",
      "include_colab_link": true
    },
    "kernelspec": {
      "name": "python3",
      "display_name": "Python 3"
    }
  },
  "cells": [
    {
      "cell_type": "markdown",
      "metadata": {
        "id": "view-in-github",
        "colab_type": "text"
      },
      "source": [
        "<a href=\"https://colab.research.google.com/github/Wpompeo/Wpompeo_DataScience/blob/master/Criando_DataFrame.ipynb\" target=\"_parent\"><img src=\"https://colab.research.google.com/assets/colab-badge.svg\" alt=\"Open In Colab\"/></a>"
      ]
    },
    {
      "cell_type": "code",
      "metadata": {
        "id": "j789giQkHGUp"
      },
      "source": [
        "#import panda\r\n",
        "import pandas as pd"
      ],
      "execution_count": 1,
      "outputs": []
    },
    {
      "cell_type": "code",
      "metadata": {
        "id": "ezNgkupTHS9L"
      },
      "source": [
        "#criando dicionário\r\n",
        "dados_dict = {\r\n",
        "    'nome':['Wagner', 'Tatiana', 'Santiago', 'Petrurs'],\r\n",
        "    'idade':['38', '37', '7', '11'], \r\n",
        "    'cidade':['Esteio', 'Porto Alegre', 'Canoas', 'Sapucaia'],\r\n",
        "    'comprou':[True, False, False, True]\r\n",
        "}"
      ],
      "execution_count": 5,
      "outputs": []
    },
    {
      "cell_type": "code",
      "metadata": {
        "id": "w3wkJkOsIW1I"
      },
      "source": [
        "#criar DataFrame\r\n",
        "df = pd.DataFrame(dados_dict)"
      ],
      "execution_count": 7,
      "outputs": []
    },
    {
      "cell_type": "code",
      "metadata": {
        "colab": {
          "base_uri": "https://localhost:8080/",
          "height": 173
        },
        "id": "FVkA817UI5Zo",
        "outputId": "b76578e1-1a10-4cbd-e7b8-6634f3ae0754"
      },
      "source": [
        "#visualizar DataFrame\r\n",
        "df"
      ],
      "execution_count": 9,
      "outputs": [
        {
          "output_type": "execute_result",
          "data": {
            "text/html": [
              "<div>\n",
              "<style scoped>\n",
              "    .dataframe tbody tr th:only-of-type {\n",
              "        vertical-align: middle;\n",
              "    }\n",
              "\n",
              "    .dataframe tbody tr th {\n",
              "        vertical-align: top;\n",
              "    }\n",
              "\n",
              "    .dataframe thead th {\n",
              "        text-align: right;\n",
              "    }\n",
              "</style>\n",
              "<table border=\"1\" class=\"dataframe\">\n",
              "  <thead>\n",
              "    <tr style=\"text-align: right;\">\n",
              "      <th></th>\n",
              "      <th>nome</th>\n",
              "      <th>idade</th>\n",
              "      <th>cidade</th>\n",
              "      <th>comprou</th>\n",
              "    </tr>\n",
              "  </thead>\n",
              "  <tbody>\n",
              "    <tr>\n",
              "      <th>0</th>\n",
              "      <td>Wagner</td>\n",
              "      <td>38</td>\n",
              "      <td>Esteio</td>\n",
              "      <td>True</td>\n",
              "    </tr>\n",
              "    <tr>\n",
              "      <th>1</th>\n",
              "      <td>Tatiana</td>\n",
              "      <td>37</td>\n",
              "      <td>Porto Alegre</td>\n",
              "      <td>False</td>\n",
              "    </tr>\n",
              "    <tr>\n",
              "      <th>2</th>\n",
              "      <td>Santiago</td>\n",
              "      <td>7</td>\n",
              "      <td>Canoas</td>\n",
              "      <td>False</td>\n",
              "    </tr>\n",
              "    <tr>\n",
              "      <th>3</th>\n",
              "      <td>Petrurs</td>\n",
              "      <td>11</td>\n",
              "      <td>Sapucaia</td>\n",
              "      <td>True</td>\n",
              "    </tr>\n",
              "  </tbody>\n",
              "</table>\n",
              "</div>"
            ],
            "text/plain": [
              "       nome idade        cidade  comprou\n",
              "0    Wagner    38        Esteio     True\n",
              "1   Tatiana    37  Porto Alegre    False\n",
              "2  Santiago     7        Canoas    False\n",
              "3   Petrurs    11      Sapucaia     True"
            ]
          },
          "metadata": {
            "tags": []
          },
          "execution_count": 9
        }
      ]
    },
    {
      "cell_type": "code",
      "metadata": {
        "id": "C8mJF_ZxJFKg"
      },
      "source": [
        "#criar id do usuário\r\n",
        "id_usuario = [23, 26, 31, 15]\r\n"
      ],
      "execution_count": 10,
      "outputs": []
    },
    {
      "cell_type": "code",
      "metadata": {
        "id": "MrILpHZMJj4e"
      },
      "source": [
        "#associar o id do usuário à lista\r\n",
        "df.index = id_usuario"
      ],
      "execution_count": 11,
      "outputs": []
    },
    {
      "cell_type": "code",
      "metadata": {
        "colab": {
          "base_uri": "https://localhost:8080/",
          "height": 173
        },
        "id": "X5-GgVcAJver",
        "outputId": "49bef94c-5a48-4b51-9cc9-99f590c9ff15"
      },
      "source": [
        "#ver DataFrame atual\r\n",
        "df"
      ],
      "execution_count": 12,
      "outputs": [
        {
          "output_type": "execute_result",
          "data": {
            "text/html": [
              "<div>\n",
              "<style scoped>\n",
              "    .dataframe tbody tr th:only-of-type {\n",
              "        vertical-align: middle;\n",
              "    }\n",
              "\n",
              "    .dataframe tbody tr th {\n",
              "        vertical-align: top;\n",
              "    }\n",
              "\n",
              "    .dataframe thead th {\n",
              "        text-align: right;\n",
              "    }\n",
              "</style>\n",
              "<table border=\"1\" class=\"dataframe\">\n",
              "  <thead>\n",
              "    <tr style=\"text-align: right;\">\n",
              "      <th></th>\n",
              "      <th>nome</th>\n",
              "      <th>idade</th>\n",
              "      <th>cidade</th>\n",
              "      <th>comprou</th>\n",
              "    </tr>\n",
              "  </thead>\n",
              "  <tbody>\n",
              "    <tr>\n",
              "      <th>23</th>\n",
              "      <td>Wagner</td>\n",
              "      <td>38</td>\n",
              "      <td>Esteio</td>\n",
              "      <td>True</td>\n",
              "    </tr>\n",
              "    <tr>\n",
              "      <th>26</th>\n",
              "      <td>Tatiana</td>\n",
              "      <td>37</td>\n",
              "      <td>Porto Alegre</td>\n",
              "      <td>False</td>\n",
              "    </tr>\n",
              "    <tr>\n",
              "      <th>31</th>\n",
              "      <td>Santiago</td>\n",
              "      <td>7</td>\n",
              "      <td>Canoas</td>\n",
              "      <td>False</td>\n",
              "    </tr>\n",
              "    <tr>\n",
              "      <th>15</th>\n",
              "      <td>Petrurs</td>\n",
              "      <td>11</td>\n",
              "      <td>Sapucaia</td>\n",
              "      <td>True</td>\n",
              "    </tr>\n",
              "  </tbody>\n",
              "</table>\n",
              "</div>"
            ],
            "text/plain": [
              "        nome idade        cidade  comprou\n",
              "23    Wagner    38        Esteio     True\n",
              "26   Tatiana    37  Porto Alegre    False\n",
              "31  Santiago     7        Canoas    False\n",
              "15   Petrurs    11      Sapucaia     True"
            ]
          },
          "metadata": {
            "tags": []
          },
          "execution_count": 12
        }
      ]
    },
    {
      "cell_type": "code",
      "metadata": {
        "colab": {
          "base_uri": "https://localhost:8080/"
        },
        "id": "HhgR-Uu0KAay",
        "outputId": "86836557-df1c-4f07-da8e-36c7225ba277"
      },
      "source": [
        "#selecionar por id\r\n",
        "df.loc[31]"
      ],
      "execution_count": 13,
      "outputs": [
        {
          "output_type": "execute_result",
          "data": {
            "text/plain": [
              "nome       Santiago\n",
              "idade             7\n",
              "cidade       Canoas\n",
              "comprou       False\n",
              "Name: 31, dtype: object"
            ]
          },
          "metadata": {
            "tags": []
          },
          "execution_count": 13
        }
      ]
    },
    {
      "cell_type": "markdown",
      "metadata": {
        "id": "gWCpJt3cMcnS"
      },
      "source": [
        "## **DataFrame a partir de listas**\r\n",
        "Listas também são estruturas muito usadas em *Python*, e não é incomum termos que criar *DataFrames* a partir destas.\r\n",
        "Para organizar nossas várias listas de um modo que seja fácil sua conversão em *DataFrame*, vamos usar a função **built-in** zip().\r\n"
      ]
    },
    {
      "cell_type": "code",
      "metadata": {
        "id": "bgPXlR7DOcDv"
      },
      "source": [
        "#Listas\r\n",
        "dados_lista = [['Wagner', 38, 'Esteio', True],\r\n",
        "               ['Tatiana', 37, 'Porto Alegre', False],\r\n",
        "               ['Santiago', 7, 'canoas', True],\r\n",
        "               ['Petrus', 11, 'Sapucaia', False]]"
      ],
      "execution_count": 32,
      "outputs": []
    },
    {
      "cell_type": "code",
      "metadata": {
        "id": "is_herqEOndk"
      },
      "source": [
        "#criar DataFrame, nomear colunas e index\r\n",
        "df = pd.DataFrame(dados_lista, columns=['nome', 'idade', 'cidade', 'comprou'])\r\n",
        "df.index = ['a','b','c', 'd']"
      ],
      "execution_count": 33,
      "outputs": []
    },
    {
      "cell_type": "code",
      "metadata": {
        "colab": {
          "base_uri": "https://localhost:8080/",
          "height": 173
        },
        "id": "-jWpZh6-O2Sl",
        "outputId": "dfa5b652-e596-4fab-90a5-f0bcaeab571f"
      },
      "source": [
        "df"
      ],
      "execution_count": 34,
      "outputs": [
        {
          "output_type": "execute_result",
          "data": {
            "text/html": [
              "<div>\n",
              "<style scoped>\n",
              "    .dataframe tbody tr th:only-of-type {\n",
              "        vertical-align: middle;\n",
              "    }\n",
              "\n",
              "    .dataframe tbody tr th {\n",
              "        vertical-align: top;\n",
              "    }\n",
              "\n",
              "    .dataframe thead th {\n",
              "        text-align: right;\n",
              "    }\n",
              "</style>\n",
              "<table border=\"1\" class=\"dataframe\">\n",
              "  <thead>\n",
              "    <tr style=\"text-align: right;\">\n",
              "      <th></th>\n",
              "      <th>nome</th>\n",
              "      <th>idade</th>\n",
              "      <th>cidade</th>\n",
              "      <th>comprou</th>\n",
              "    </tr>\n",
              "  </thead>\n",
              "  <tbody>\n",
              "    <tr>\n",
              "      <th>a</th>\n",
              "      <td>Wagner</td>\n",
              "      <td>38</td>\n",
              "      <td>Esteio</td>\n",
              "      <td>True</td>\n",
              "    </tr>\n",
              "    <tr>\n",
              "      <th>b</th>\n",
              "      <td>Tatiana</td>\n",
              "      <td>37</td>\n",
              "      <td>Porto Alegre</td>\n",
              "      <td>False</td>\n",
              "    </tr>\n",
              "    <tr>\n",
              "      <th>c</th>\n",
              "      <td>Santiago</td>\n",
              "      <td>7</td>\n",
              "      <td>canoas</td>\n",
              "      <td>True</td>\n",
              "    </tr>\n",
              "    <tr>\n",
              "      <th>d</th>\n",
              "      <td>Petrus</td>\n",
              "      <td>11</td>\n",
              "      <td>Sapucaia</td>\n",
              "      <td>False</td>\n",
              "    </tr>\n",
              "  </tbody>\n",
              "</table>\n",
              "</div>"
            ],
            "text/plain": [
              "       nome  idade        cidade  comprou\n",
              "a    Wagner     38        Esteio     True\n",
              "b   Tatiana     37  Porto Alegre    False\n",
              "c  Santiago      7        canoas     True\n",
              "d    Petrus     11      Sapucaia    False"
            ]
          },
          "metadata": {
            "tags": []
          },
          "execution_count": 34
        }
      ]
    },
    {
      "cell_type": "code",
      "metadata": {
        "colab": {
          "base_uri": "https://localhost:8080/"
        },
        "id": "i9oqagRWPn8v",
        "outputId": "925d205a-17b9-43db-8512-874543ee8cb3"
      },
      "source": [
        "#selecionar por id\r\n",
        "df.loc['b']"
      ],
      "execution_count": 35,
      "outputs": [
        {
          "output_type": "execute_result",
          "data": {
            "text/plain": [
              "nome            Tatiana\n",
              "idade                37\n",
              "cidade     Porto Alegre\n",
              "comprou           False\n",
              "Name: b, dtype: object"
            ]
          },
          "metadata": {
            "tags": []
          },
          "execution_count": 35
        }
      ]
    },
    {
      "cell_type": "markdown",
      "metadata": {
        "id": "0PI6NnLgP9ay"
      },
      "source": [
        "## **Criar novas colunas**\r\n",
        "Uma maneira extremamente conveniente de criar novas colunas em um *DataFrame* é usar uma funcionalidade do Pandas conhecida como **broadcasting**.\r\n",
        "Informando o nome da coluna e declarando apenas um valor, este é replicado para todas as linhas do *DataFrame*"
      ]
    },
    {
      "cell_type": "code",
      "metadata": {
        "colab": {
          "base_uri": "https://localhost:8080/",
          "height": 173
        },
        "id": "3Go2xb_VQx1B",
        "outputId": "7306f5c3-0334-49c5-fb61-badc702e48ff"
      },
      "source": [
        "#criar coluna \"saldo\"\r\n",
        "df['saldo'] = 0.0\r\n",
        "\r\n",
        "#visualizar df\r\n",
        "df\r\n"
      ],
      "execution_count": 36,
      "outputs": [
        {
          "output_type": "execute_result",
          "data": {
            "text/html": [
              "<div>\n",
              "<style scoped>\n",
              "    .dataframe tbody tr th:only-of-type {\n",
              "        vertical-align: middle;\n",
              "    }\n",
              "\n",
              "    .dataframe tbody tr th {\n",
              "        vertical-align: top;\n",
              "    }\n",
              "\n",
              "    .dataframe thead th {\n",
              "        text-align: right;\n",
              "    }\n",
              "</style>\n",
              "<table border=\"1\" class=\"dataframe\">\n",
              "  <thead>\n",
              "    <tr style=\"text-align: right;\">\n",
              "      <th></th>\n",
              "      <th>nome</th>\n",
              "      <th>idade</th>\n",
              "      <th>cidade</th>\n",
              "      <th>comprou</th>\n",
              "      <th>saldo</th>\n",
              "    </tr>\n",
              "  </thead>\n",
              "  <tbody>\n",
              "    <tr>\n",
              "      <th>a</th>\n",
              "      <td>Wagner</td>\n",
              "      <td>38</td>\n",
              "      <td>Esteio</td>\n",
              "      <td>True</td>\n",
              "      <td>0.0</td>\n",
              "    </tr>\n",
              "    <tr>\n",
              "      <th>b</th>\n",
              "      <td>Tatiana</td>\n",
              "      <td>37</td>\n",
              "      <td>Porto Alegre</td>\n",
              "      <td>False</td>\n",
              "      <td>0.0</td>\n",
              "    </tr>\n",
              "    <tr>\n",
              "      <th>c</th>\n",
              "      <td>Santiago</td>\n",
              "      <td>7</td>\n",
              "      <td>canoas</td>\n",
              "      <td>True</td>\n",
              "      <td>0.0</td>\n",
              "    </tr>\n",
              "    <tr>\n",
              "      <th>d</th>\n",
              "      <td>Petrus</td>\n",
              "      <td>11</td>\n",
              "      <td>Sapucaia</td>\n",
              "      <td>False</td>\n",
              "      <td>0.0</td>\n",
              "    </tr>\n",
              "  </tbody>\n",
              "</table>\n",
              "</div>"
            ],
            "text/plain": [
              "       nome  idade        cidade  comprou  saldo\n",
              "a    Wagner     38        Esteio     True    0.0\n",
              "b   Tatiana     37  Porto Alegre    False    0.0\n",
              "c  Santiago      7        canoas     True    0.0\n",
              "d    Petrus     11      Sapucaia    False    0.0"
            ]
          },
          "metadata": {
            "tags": []
          },
          "execution_count": 36
        }
      ]
    },
    {
      "cell_type": "markdown",
      "metadata": {
        "id": "c5bA7S5oRT8D"
      },
      "source": [
        "## **Modificar *index* e colunas**\r\n",
        "As vezes, precisamos alterar o nome dos índices ou o *label* das colunas. Se você olhar na célula acima, veja que na esquerda do *DataFrame* o index de cada linha é representado por um número entre 0 e 3.\r\n",
        "É possível alterar esse atributo da variável acessando diretamente assim:"
      ]
    },
    {
      "cell_type": "code",
      "metadata": {
        "colab": {
          "base_uri": "https://localhost:8080/",
          "height": 173
        },
        "id": "k_KEu_wFToZD",
        "outputId": "2abb8a10-b697-4d1d-df98-4402befa10fd"
      },
      "source": [
        "#alterar o index do df\r\n",
        "df.index = ['colA', 'colB', 'colC', 'colD']\r\n",
        "\r\n",
        "#visualiza DataFrame atual\r\n",
        "df"
      ],
      "execution_count": 37,
      "outputs": [
        {
          "output_type": "execute_result",
          "data": {
            "text/html": [
              "<div>\n",
              "<style scoped>\n",
              "    .dataframe tbody tr th:only-of-type {\n",
              "        vertical-align: middle;\n",
              "    }\n",
              "\n",
              "    .dataframe tbody tr th {\n",
              "        vertical-align: top;\n",
              "    }\n",
              "\n",
              "    .dataframe thead th {\n",
              "        text-align: right;\n",
              "    }\n",
              "</style>\n",
              "<table border=\"1\" class=\"dataframe\">\n",
              "  <thead>\n",
              "    <tr style=\"text-align: right;\">\n",
              "      <th></th>\n",
              "      <th>nome</th>\n",
              "      <th>idade</th>\n",
              "      <th>cidade</th>\n",
              "      <th>comprou</th>\n",
              "      <th>saldo</th>\n",
              "    </tr>\n",
              "  </thead>\n",
              "  <tbody>\n",
              "    <tr>\n",
              "      <th>colA</th>\n",
              "      <td>Wagner</td>\n",
              "      <td>38</td>\n",
              "      <td>Esteio</td>\n",
              "      <td>True</td>\n",
              "      <td>0.0</td>\n",
              "    </tr>\n",
              "    <tr>\n",
              "      <th>colB</th>\n",
              "      <td>Tatiana</td>\n",
              "      <td>37</td>\n",
              "      <td>Porto Alegre</td>\n",
              "      <td>False</td>\n",
              "      <td>0.0</td>\n",
              "    </tr>\n",
              "    <tr>\n",
              "      <th>colC</th>\n",
              "      <td>Santiago</td>\n",
              "      <td>7</td>\n",
              "      <td>canoas</td>\n",
              "      <td>True</td>\n",
              "      <td>0.0</td>\n",
              "    </tr>\n",
              "    <tr>\n",
              "      <th>colD</th>\n",
              "      <td>Petrus</td>\n",
              "      <td>11</td>\n",
              "      <td>Sapucaia</td>\n",
              "      <td>False</td>\n",
              "      <td>0.0</td>\n",
              "    </tr>\n",
              "  </tbody>\n",
              "</table>\n",
              "</div>"
            ],
            "text/plain": [
              "          nome  idade        cidade  comprou  saldo\n",
              "colA    Wagner     38        Esteio     True    0.0\n",
              "colB   Tatiana     37  Porto Alegre    False    0.0\n",
              "colC  Santiago      7        canoas     True    0.0\n",
              "colD    Petrus     11      Sapucaia    False    0.0"
            ]
          },
          "metadata": {
            "tags": []
          },
          "execution_count": 37
        }
      ]
    },
    {
      "cell_type": "markdown",
      "metadata": {
        "id": "_qjqritWUDY8"
      },
      "source": [
        "Da mesma maneira, se eu precisar alterar o nome das colunas, posso alterar diretamente no atributo da variável"
      ]
    },
    {
      "cell_type": "code",
      "metadata": {
        "colab": {
          "base_uri": "https://localhost:8080/",
          "height": 173
        },
        "id": "aLgzAFASUPJK",
        "outputId": "f1e3770e-e9a1-419b-f848-40e63bd30fb4"
      },
      "source": [
        "#altera os labels das colunas\r\n",
        "df.columns = ['NOME', 'IDADE', 'CIDADE', 'COMPROU', 'SALDO']\r\n",
        "\r\n",
        "#visualizar DataFrame atual\r\n",
        "df"
      ],
      "execution_count": 38,
      "outputs": [
        {
          "output_type": "execute_result",
          "data": {
            "text/html": [
              "<div>\n",
              "<style scoped>\n",
              "    .dataframe tbody tr th:only-of-type {\n",
              "        vertical-align: middle;\n",
              "    }\n",
              "\n",
              "    .dataframe tbody tr th {\n",
              "        vertical-align: top;\n",
              "    }\n",
              "\n",
              "    .dataframe thead th {\n",
              "        text-align: right;\n",
              "    }\n",
              "</style>\n",
              "<table border=\"1\" class=\"dataframe\">\n",
              "  <thead>\n",
              "    <tr style=\"text-align: right;\">\n",
              "      <th></th>\n",
              "      <th>NOME</th>\n",
              "      <th>IDADE</th>\n",
              "      <th>CIDADE</th>\n",
              "      <th>COMPROU</th>\n",
              "      <th>SALDO</th>\n",
              "    </tr>\n",
              "  </thead>\n",
              "  <tbody>\n",
              "    <tr>\n",
              "      <th>colA</th>\n",
              "      <td>Wagner</td>\n",
              "      <td>38</td>\n",
              "      <td>Esteio</td>\n",
              "      <td>True</td>\n",
              "      <td>0.0</td>\n",
              "    </tr>\n",
              "    <tr>\n",
              "      <th>colB</th>\n",
              "      <td>Tatiana</td>\n",
              "      <td>37</td>\n",
              "      <td>Porto Alegre</td>\n",
              "      <td>False</td>\n",
              "      <td>0.0</td>\n",
              "    </tr>\n",
              "    <tr>\n",
              "      <th>colC</th>\n",
              "      <td>Santiago</td>\n",
              "      <td>7</td>\n",
              "      <td>canoas</td>\n",
              "      <td>True</td>\n",
              "      <td>0.0</td>\n",
              "    </tr>\n",
              "    <tr>\n",
              "      <th>colD</th>\n",
              "      <td>Petrus</td>\n",
              "      <td>11</td>\n",
              "      <td>Sapucaia</td>\n",
              "      <td>False</td>\n",
              "      <td>0.0</td>\n",
              "    </tr>\n",
              "  </tbody>\n",
              "</table>\n",
              "</div>"
            ],
            "text/plain": [
              "          NOME  IDADE        CIDADE  COMPROU  SALDO\n",
              "colA    Wagner     38        Esteio     True    0.0\n",
              "colB   Tatiana     37  Porto Alegre    False    0.0\n",
              "colC  Santiago      7        canoas     True    0.0\n",
              "colD    Petrus     11      Sapucaia    False    0.0"
            ]
          },
          "metadata": {
            "tags": []
          },
          "execution_count": 38
        }
      ]
    }
  ]
}