{
  "nbformat": 4,
  "nbformat_minor": 0,
  "metadata": {
    "colab": {
      "name": "Analisando dados Rio de Janeiro",
      "provenance": [],
      "collapsed_sections": [],
      "authorship_tag": "ABX9TyOfLZgsk/p2hNmdSDqOrNAN",
      "include_colab_link": true
    },
    "kernelspec": {
      "name": "python3",
      "display_name": "Python 3"
    }
  },
  "cells": [
    {
      "cell_type": "markdown",
      "metadata": {
        "id": "view-in-github",
        "colab_type": "text"
      },
      "source": [
        "<a href=\"https://colab.research.google.com/github/Wpompeo/Wpompeo_DataScience/blob/master/Analisando_dados_Rio_de_Janeiro.ipynb\" target=\"_parent\"><img src=\"https://colab.research.google.com/assets/colab-badge.svg\" alt=\"Open In Colab\"/></a>"
      ]
    },
    {
      "cell_type": "markdown",
      "metadata": {
        "id": "SGVc1FY6yi2r"
      },
      "source": [
        "\r\n",
        "#Analisando a Violência no Rio de Janeiro\r\n",
        "\r\n",
        "<center><img alt=\"Rio de Janeiro\" width=\"80%\" src=\"http://riofan.com.br/wp-content/uploads/2018/10/Imagens-do-Rio-de-Janeiro.jpg\"></center>\r\n",
        "\r\n",
        "A violência é algo que persiste em diversas cidades Brasileiras e cada vez mais se torna destaque em noticiários diários. \r\n",
        "\r\n",
        "Através das leis de acesso à informação e a conscientização dos orgãos públicos, alguns dados são disponibilizados para consulta.\r\n",
        "\r\n",
        "O estado do *Rio de  Janeiro* utliza o [portal ISPDados](http://www.ispdados.rj.gov.br/) para divulgar alguns de seus dados abertos. \r\n",
        "\r\n",
        "Com isso, iremos realizar uma análise baseada nos dados estatísticos da violência no Rio, explorando algumas váriaveis fornecidas.\r\n"
      ]
    },
    {
      "cell_type": "markdown",
      "metadata": {
        "id": "A8bvNCLGIo8w"
      },
      "source": [
        "# Obtenção dos Dados\r\n",
        "\r\n",
        "Os dados foram obtidos diretamente do portal *ISPDados*, onde se encontram alguns Dados Abertos do Instituto de Segurança Pública do Rio de Janeiro.\r\n",
        "\r\n",
        "As estatísticas divulgadas no portal são geradas a partir de Registros de  Ocorrênica (RO) lavrados nas delegacias de Polícia Civil do Estado do Rio de Janeiro e outras informações complementares de orgãos específicos da Policia Militar do Estado.\r\n",
        "\r\n",
        "Todos os Dados publicados no ISP, passam por uma análise da Corregedoria Interna da Polícia Civil(COINPOL), para assim se manter uma qualidade.\r\n",
        "\r\n",
        "As estatísticas produzidas baseiam-se na data em que foi confeccionado o (RO).\r\n",
        "\r\n",
        "O *dataset* utilizado aqui, arquivo `csv`pode ser baixado diretamente [neste link](https://raw.githubusercontent.com/carlosfab/dsnp2/master/datasets/violencia_rio.csv)."
      ]
    },
    {
      "cell_type": "markdown",
      "metadata": {
        "id": "6iDtWGgdPB5S"
      },
      "source": [
        "# Importando os Dados\r\n"
      ]
    },
    {
      "cell_type": "code",
      "metadata": {
        "id": "T6NKe7j7PL7Q"
      },
      "source": [
        "# Importa os pacotes necessários\r\n",
        "import pandas as pd\r\n",
        "import numpy as np\r\n",
        "\r\n",
        "# Carrega arquivo\r\n",
        "df = pd.read_csv(\"https://raw.githubusercontent.com/carlosfab/dsnp2/master/datasets/violencia_rio.csv\")"
      ],
      "execution_count": 1,
      "outputs": []
    },
    {
      "cell_type": "markdown",
      "metadata": {
        "id": "HPrckgHwP4Su"
      },
      "source": [
        "Com os dados carregados, vamos analisar algumas informações iniciais antes de explorarmos o nosso *dataset*. \r\n",
        "\r\n",
        "vamos analisar suas dimensões *variáveis* x *entradas*."
      ]
    },
    {
      "cell_type": "code",
      "metadata": {
        "colab": {
          "base_uri": "https://localhost:8080/"
        },
        "id": "cnqhK65sSWhr",
        "outputId": "71401f25-481a-47a9-9458-8404a8045ed7"
      },
      "source": [
        "# Verificar o tamanho do DataFrame\r\n",
        "print(\"Variáveis: \", df.shape[1])\r\n",
        "print(\"Entradas: \", df.shape[0])"
      ],
      "execution_count": 3,
      "outputs": [
        {
          "output_type": "stream",
          "text": [
            "Variáveis:  56\n",
            "Entradas:  344\n"
          ],
          "name": "stdout"
        }
      ]
    },
    {
      "cell_type": "markdown",
      "metadata": {
        "id": "LzosIIuYg-_1"
      },
      "source": [
        "Descoberta a dimensão dos dados que estamos trabalhando, vamos agora verificar quais são os tipos de dados que compõem esse dataset."
      ]
    },
    {
      "cell_type": "code",
      "metadata": {
        "colab": {
          "base_uri": "https://localhost:8080/"
        },
        "id": "QiKnlT-Ph65d",
        "outputId": "06a2bfe4-6493-4a55-a5b4-d0ba8eff1007"
      },
      "source": [
        "# Imprimir os nomes das colunas\r\n",
        "df.columns"
      ],
      "execution_count": 2,
      "outputs": [
        {
          "output_type": "execute_result",
          "data": {
            "text/plain": [
              "Index(['vano', 'mes', 'hom_doloso', 'lesao_corp_morte', 'latrocinio',\n",
              "       'hom_por_interv_policial', 'tentat_hom', 'lesao_corp_dolosa', 'estupro',\n",
              "       'hom_culposo', 'lesao_corp_culposa', 'roubo_comercio',\n",
              "       'roubo_residencia', 'roubo_veiculo', 'roubo_carga', 'roubo_transeunte',\n",
              "       'roubo_em_coletivo', 'roubo_banco', 'roubo_cx_eletronico',\n",
              "       'roubo_celular', 'roubo_conducao_saque', 'roubo_apos_saque',\n",
              "       'roubo_bicicleta', 'outros_roubos', 'total_roubos', 'furto_veiculos',\n",
              "       'furto_transeunte', 'furto_coletivo', 'furto_celular',\n",
              "       'furto_bicicleta', 'outros_furtos', 'total_furtos', 'sequestro',\n",
              "       'extorsao', 'sequestro_relampago', 'estelionato', 'apreensao_drogas',\n",
              "       'posse_drogas', 'trafico_drogas', 'apreensao_drogas_sem_autor',\n",
              "       'recuperacao_veiculos', 'apf', 'aaapai', 'cmp', 'cmba', 'ameaca',\n",
              "       'pessoas_desaparecidas', 'encontro_cadaver', 'encontro_ossada',\n",
              "       'pol_militares_mortos_serv', 'pol_civis_mortos_serv',\n",
              "       'indicador_letalidade', 'indicador_roubo_rua', 'indicador_roubo_veic',\n",
              "       'registro_ocorrencias', 'fase'],\n",
              "      dtype='object')"
            ]
          },
          "metadata": {
            "tags": []
          },
          "execution_count": 2
        }
      ]
    },
    {
      "cell_type": "markdown",
      "metadata": {
        "id": "gR5IZYJBj8_z"
      },
      "source": [
        "Com essas informações coletadas sobre o dataset, agora podemos analisar os tipos de cada variável que temos.\r\n",
        "\r\n",
        "Essa informação é de bastante importância, e nos auxilia na limpeza dos dados desnecessários."
      ]
    },
    {
      "cell_type": "code",
      "metadata": {
        "colab": {
          "base_uri": "https://localhost:8080/"
        },
        "id": "BPQFGvdQlYg3",
        "outputId": "c748d386-82de-4a9d-b305-7c489f56178a"
      },
      "source": [
        "# Ver os tipos das variáveis\r\n",
        "df.dtypes"
      ],
      "execution_count": 3,
      "outputs": [
        {
          "output_type": "execute_result",
          "data": {
            "text/plain": [
              "vano                            int64\n",
              "mes                             int64\n",
              "hom_doloso                      int64\n",
              "lesao_corp_morte              float64\n",
              "latrocinio                      int64\n",
              "hom_por_interv_policial       float64\n",
              "tentat_hom                      int64\n",
              "lesao_corp_dolosa               int64\n",
              "estupro                       float64\n",
              "hom_culposo                   float64\n",
              "lesao_corp_culposa            float64\n",
              "roubo_comercio                  int64\n",
              "roubo_residencia                int64\n",
              "roubo_veiculo                   int64\n",
              "roubo_carga                     int64\n",
              "roubo_transeunte                int64\n",
              "roubo_em_coletivo               int64\n",
              "roubo_banco                     int64\n",
              "roubo_cx_eletronico           float64\n",
              "roubo_celular                 float64\n",
              "roubo_conducao_saque          float64\n",
              "roubo_apos_saque              float64\n",
              "roubo_bicicleta               float64\n",
              "outros_roubos                   int64\n",
              "total_roubos                    int64\n",
              "furto_veiculos                  int64\n",
              "furto_transeunte                int64\n",
              "furto_coletivo                float64\n",
              "furto_celular                 float64\n",
              "furto_bicicleta               float64\n",
              "outros_furtos                   int64\n",
              "total_furtos                    int64\n",
              "sequestro                     float64\n",
              "extorsao                      float64\n",
              "sequestro_relampago           float64\n",
              "estelionato                   float64\n",
              "apreensao_drogas                int64\n",
              "posse_drogas                  float64\n",
              "trafico_drogas                float64\n",
              "apreensao_drogas_sem_autor    float64\n",
              "recuperacao_veiculos            int64\n",
              "apf                           float64\n",
              "aaapai                        float64\n",
              "cmp                           float64\n",
              "cmba                          float64\n",
              "ameaca                        float64\n",
              "pessoas_desaparecidas         float64\n",
              "encontro_cadaver                int64\n",
              "encontro_ossada               float64\n",
              "pol_militares_mortos_serv     float64\n",
              "pol_civis_mortos_serv         float64\n",
              "indicador_letalidade            int64\n",
              "indicador_roubo_rua             int64\n",
              "indicador_roubo_veic            int64\n",
              "registro_ocorrencias          float64\n",
              "fase                            int64\n",
              "dtype: object"
            ]
          },
          "metadata": {
            "tags": []
          },
          "execution_count": 3
        }
      ]
    },
    {
      "cell_type": "markdown",
      "metadata": {
        "id": "s-6wt4qqlRVH"
      },
      "source": [
        "Todas as variáveis que estão presente no dataset são do tipo numérico, `int` e `float`."
      ]
    },
    {
      "cell_type": "markdown",
      "metadata": {
        "id": "KyAChn6Vnenb"
      },
      "source": [
        "Vamos conhecer como está organizado esse dataset, ver como é sua representação no arquivo."
      ]
    },
    {
      "cell_type": "code",
      "metadata": {
        "colab": {
          "base_uri": "https://localhost:8080/",
          "height": 224
        },
        "id": "hG3d0odtli2T",
        "outputId": "3b6a6f2c-72d5-4b71-ee2d-4a5a01f3e758"
      },
      "source": [
        "# Ver as 5 primeiras entradas do dataset\r\n",
        "df.head()"
      ],
      "execution_count": 4,
      "outputs": [
        {
          "output_type": "execute_result",
          "data": {
            "text/html": [
              "<div>\n",
              "<style scoped>\n",
              "    .dataframe tbody tr th:only-of-type {\n",
              "        vertical-align: middle;\n",
              "    }\n",
              "\n",
              "    .dataframe tbody tr th {\n",
              "        vertical-align: top;\n",
              "    }\n",
              "\n",
              "    .dataframe thead th {\n",
              "        text-align: right;\n",
              "    }\n",
              "</style>\n",
              "<table border=\"1\" class=\"dataframe\">\n",
              "  <thead>\n",
              "    <tr style=\"text-align: right;\">\n",
              "      <th></th>\n",
              "      <th>vano</th>\n",
              "      <th>mes</th>\n",
              "      <th>hom_doloso</th>\n",
              "      <th>lesao_corp_morte</th>\n",
              "      <th>latrocinio</th>\n",
              "      <th>hom_por_interv_policial</th>\n",
              "      <th>tentat_hom</th>\n",
              "      <th>lesao_corp_dolosa</th>\n",
              "      <th>estupro</th>\n",
              "      <th>hom_culposo</th>\n",
              "      <th>lesao_corp_culposa</th>\n",
              "      <th>roubo_comercio</th>\n",
              "      <th>roubo_residencia</th>\n",
              "      <th>roubo_veiculo</th>\n",
              "      <th>roubo_carga</th>\n",
              "      <th>roubo_transeunte</th>\n",
              "      <th>roubo_em_coletivo</th>\n",
              "      <th>roubo_banco</th>\n",
              "      <th>roubo_cx_eletronico</th>\n",
              "      <th>roubo_celular</th>\n",
              "      <th>roubo_conducao_saque</th>\n",
              "      <th>roubo_apos_saque</th>\n",
              "      <th>roubo_bicicleta</th>\n",
              "      <th>outros_roubos</th>\n",
              "      <th>total_roubos</th>\n",
              "      <th>furto_veiculos</th>\n",
              "      <th>furto_transeunte</th>\n",
              "      <th>furto_coletivo</th>\n",
              "      <th>furto_celular</th>\n",
              "      <th>furto_bicicleta</th>\n",
              "      <th>outros_furtos</th>\n",
              "      <th>total_furtos</th>\n",
              "      <th>sequestro</th>\n",
              "      <th>extorsao</th>\n",
              "      <th>sequestro_relampago</th>\n",
              "      <th>estelionato</th>\n",
              "      <th>apreensao_drogas</th>\n",
              "      <th>posse_drogas</th>\n",
              "      <th>trafico_drogas</th>\n",
              "      <th>apreensao_drogas_sem_autor</th>\n",
              "      <th>recuperacao_veiculos</th>\n",
              "      <th>apf</th>\n",
              "      <th>aaapai</th>\n",
              "      <th>cmp</th>\n",
              "      <th>cmba</th>\n",
              "      <th>ameaca</th>\n",
              "      <th>pessoas_desaparecidas</th>\n",
              "      <th>encontro_cadaver</th>\n",
              "      <th>encontro_ossada</th>\n",
              "      <th>pol_militares_mortos_serv</th>\n",
              "      <th>pol_civis_mortos_serv</th>\n",
              "      <th>indicador_letalidade</th>\n",
              "      <th>indicador_roubo_rua</th>\n",
              "      <th>indicador_roubo_veic</th>\n",
              "      <th>registro_ocorrencias</th>\n",
              "      <th>fase</th>\n",
              "    </tr>\n",
              "  </thead>\n",
              "  <tbody>\n",
              "    <tr>\n",
              "      <th>0</th>\n",
              "      <td>1991</td>\n",
              "      <td>1</td>\n",
              "      <td>657</td>\n",
              "      <td>NaN</td>\n",
              "      <td>15</td>\n",
              "      <td>NaN</td>\n",
              "      <td>162</td>\n",
              "      <td>3051</td>\n",
              "      <td>NaN</td>\n",
              "      <td>NaN</td>\n",
              "      <td>NaN</td>\n",
              "      <td>350</td>\n",
              "      <td>188</td>\n",
              "      <td>1174</td>\n",
              "      <td>63</td>\n",
              "      <td>967</td>\n",
              "      <td>381</td>\n",
              "      <td>37</td>\n",
              "      <td>NaN</td>\n",
              "      <td>NaN</td>\n",
              "      <td>NaN</td>\n",
              "      <td>NaN</td>\n",
              "      <td>NaN</td>\n",
              "      <td>158</td>\n",
              "      <td>3318</td>\n",
              "      <td>2009</td>\n",
              "      <td>1147</td>\n",
              "      <td>NaN</td>\n",
              "      <td>NaN</td>\n",
              "      <td>NaN</td>\n",
              "      <td>3561</td>\n",
              "      <td>6717</td>\n",
              "      <td>NaN</td>\n",
              "      <td>NaN</td>\n",
              "      <td>NaN</td>\n",
              "      <td>NaN</td>\n",
              "      <td>133</td>\n",
              "      <td>NaN</td>\n",
              "      <td>NaN</td>\n",
              "      <td>NaN</td>\n",
              "      <td>872</td>\n",
              "      <td>NaN</td>\n",
              "      <td>NaN</td>\n",
              "      <td>NaN</td>\n",
              "      <td>NaN</td>\n",
              "      <td>NaN</td>\n",
              "      <td>NaN</td>\n",
              "      <td>217</td>\n",
              "      <td>NaN</td>\n",
              "      <td>NaN</td>\n",
              "      <td>NaN</td>\n",
              "      <td>672</td>\n",
              "      <td>1348</td>\n",
              "      <td>1174</td>\n",
              "      <td>NaN</td>\n",
              "      <td>3</td>\n",
              "    </tr>\n",
              "    <tr>\n",
              "      <th>1</th>\n",
              "      <td>1991</td>\n",
              "      <td>2</td>\n",
              "      <td>732</td>\n",
              "      <td>NaN</td>\n",
              "      <td>17</td>\n",
              "      <td>NaN</td>\n",
              "      <td>175</td>\n",
              "      <td>3421</td>\n",
              "      <td>NaN</td>\n",
              "      <td>NaN</td>\n",
              "      <td>NaN</td>\n",
              "      <td>357</td>\n",
              "      <td>171</td>\n",
              "      <td>1097</td>\n",
              "      <td>64</td>\n",
              "      <td>963</td>\n",
              "      <td>432</td>\n",
              "      <td>35</td>\n",
              "      <td>NaN</td>\n",
              "      <td>NaN</td>\n",
              "      <td>NaN</td>\n",
              "      <td>NaN</td>\n",
              "      <td>NaN</td>\n",
              "      <td>142</td>\n",
              "      <td>3261</td>\n",
              "      <td>1850</td>\n",
              "      <td>1066</td>\n",
              "      <td>NaN</td>\n",
              "      <td>NaN</td>\n",
              "      <td>NaN</td>\n",
              "      <td>3309</td>\n",
              "      <td>6225</td>\n",
              "      <td>NaN</td>\n",
              "      <td>NaN</td>\n",
              "      <td>NaN</td>\n",
              "      <td>NaN</td>\n",
              "      <td>127</td>\n",
              "      <td>NaN</td>\n",
              "      <td>NaN</td>\n",
              "      <td>NaN</td>\n",
              "      <td>751</td>\n",
              "      <td>NaN</td>\n",
              "      <td>NaN</td>\n",
              "      <td>NaN</td>\n",
              "      <td>NaN</td>\n",
              "      <td>NaN</td>\n",
              "      <td>NaN</td>\n",
              "      <td>209</td>\n",
              "      <td>NaN</td>\n",
              "      <td>NaN</td>\n",
              "      <td>NaN</td>\n",
              "      <td>749</td>\n",
              "      <td>1395</td>\n",
              "      <td>1097</td>\n",
              "      <td>NaN</td>\n",
              "      <td>3</td>\n",
              "    </tr>\n",
              "    <tr>\n",
              "      <th>2</th>\n",
              "      <td>1991</td>\n",
              "      <td>3</td>\n",
              "      <td>713</td>\n",
              "      <td>NaN</td>\n",
              "      <td>25</td>\n",
              "      <td>NaN</td>\n",
              "      <td>216</td>\n",
              "      <td>3613</td>\n",
              "      <td>NaN</td>\n",
              "      <td>NaN</td>\n",
              "      <td>NaN</td>\n",
              "      <td>443</td>\n",
              "      <td>191</td>\n",
              "      <td>1265</td>\n",
              "      <td>71</td>\n",
              "      <td>963</td>\n",
              "      <td>422</td>\n",
              "      <td>43</td>\n",
              "      <td>NaN</td>\n",
              "      <td>NaN</td>\n",
              "      <td>NaN</td>\n",
              "      <td>NaN</td>\n",
              "      <td>NaN</td>\n",
              "      <td>131</td>\n",
              "      <td>3529</td>\n",
              "      <td>2084</td>\n",
              "      <td>1062</td>\n",
              "      <td>NaN</td>\n",
              "      <td>NaN</td>\n",
              "      <td>NaN</td>\n",
              "      <td>3573</td>\n",
              "      <td>6719</td>\n",
              "      <td>NaN</td>\n",
              "      <td>NaN</td>\n",
              "      <td>NaN</td>\n",
              "      <td>NaN</td>\n",
              "      <td>80</td>\n",
              "      <td>NaN</td>\n",
              "      <td>NaN</td>\n",
              "      <td>NaN</td>\n",
              "      <td>789</td>\n",
              "      <td>NaN</td>\n",
              "      <td>NaN</td>\n",
              "      <td>NaN</td>\n",
              "      <td>NaN</td>\n",
              "      <td>NaN</td>\n",
              "      <td>NaN</td>\n",
              "      <td>188</td>\n",
              "      <td>NaN</td>\n",
              "      <td>NaN</td>\n",
              "      <td>NaN</td>\n",
              "      <td>738</td>\n",
              "      <td>1385</td>\n",
              "      <td>1265</td>\n",
              "      <td>NaN</td>\n",
              "      <td>3</td>\n",
              "    </tr>\n",
              "    <tr>\n",
              "      <th>3</th>\n",
              "      <td>1991</td>\n",
              "      <td>4</td>\n",
              "      <td>634</td>\n",
              "      <td>NaN</td>\n",
              "      <td>20</td>\n",
              "      <td>NaN</td>\n",
              "      <td>200</td>\n",
              "      <td>3211</td>\n",
              "      <td>NaN</td>\n",
              "      <td>NaN</td>\n",
              "      <td>NaN</td>\n",
              "      <td>425</td>\n",
              "      <td>199</td>\n",
              "      <td>1415</td>\n",
              "      <td>81</td>\n",
              "      <td>1186</td>\n",
              "      <td>354</td>\n",
              "      <td>36</td>\n",
              "      <td>NaN</td>\n",
              "      <td>NaN</td>\n",
              "      <td>NaN</td>\n",
              "      <td>NaN</td>\n",
              "      <td>NaN</td>\n",
              "      <td>112</td>\n",
              "      <td>3808</td>\n",
              "      <td>2085</td>\n",
              "      <td>1195</td>\n",
              "      <td>NaN</td>\n",
              "      <td>NaN</td>\n",
              "      <td>NaN</td>\n",
              "      <td>3290</td>\n",
              "      <td>6570</td>\n",
              "      <td>NaN</td>\n",
              "      <td>NaN</td>\n",
              "      <td>NaN</td>\n",
              "      <td>NaN</td>\n",
              "      <td>133</td>\n",
              "      <td>NaN</td>\n",
              "      <td>NaN</td>\n",
              "      <td>NaN</td>\n",
              "      <td>787</td>\n",
              "      <td>NaN</td>\n",
              "      <td>NaN</td>\n",
              "      <td>NaN</td>\n",
              "      <td>NaN</td>\n",
              "      <td>NaN</td>\n",
              "      <td>NaN</td>\n",
              "      <td>140</td>\n",
              "      <td>NaN</td>\n",
              "      <td>NaN</td>\n",
              "      <td>NaN</td>\n",
              "      <td>654</td>\n",
              "      <td>1540</td>\n",
              "      <td>1415</td>\n",
              "      <td>NaN</td>\n",
              "      <td>3</td>\n",
              "    </tr>\n",
              "    <tr>\n",
              "      <th>4</th>\n",
              "      <td>1991</td>\n",
              "      <td>5</td>\n",
              "      <td>650</td>\n",
              "      <td>NaN</td>\n",
              "      <td>20</td>\n",
              "      <td>NaN</td>\n",
              "      <td>146</td>\n",
              "      <td>3051</td>\n",
              "      <td>NaN</td>\n",
              "      <td>NaN</td>\n",
              "      <td>NaN</td>\n",
              "      <td>553</td>\n",
              "      <td>231</td>\n",
              "      <td>1449</td>\n",
              "      <td>82</td>\n",
              "      <td>931</td>\n",
              "      <td>335</td>\n",
              "      <td>27</td>\n",
              "      <td>NaN</td>\n",
              "      <td>NaN</td>\n",
              "      <td>NaN</td>\n",
              "      <td>NaN</td>\n",
              "      <td>NaN</td>\n",
              "      <td>147</td>\n",
              "      <td>3755</td>\n",
              "      <td>2185</td>\n",
              "      <td>723</td>\n",
              "      <td>NaN</td>\n",
              "      <td>NaN</td>\n",
              "      <td>NaN</td>\n",
              "      <td>3546</td>\n",
              "      <td>6454</td>\n",
              "      <td>NaN</td>\n",
              "      <td>NaN</td>\n",
              "      <td>NaN</td>\n",
              "      <td>NaN</td>\n",
              "      <td>163</td>\n",
              "      <td>NaN</td>\n",
              "      <td>NaN</td>\n",
              "      <td>NaN</td>\n",
              "      <td>845</td>\n",
              "      <td>NaN</td>\n",
              "      <td>NaN</td>\n",
              "      <td>NaN</td>\n",
              "      <td>NaN</td>\n",
              "      <td>NaN</td>\n",
              "      <td>NaN</td>\n",
              "      <td>78</td>\n",
              "      <td>NaN</td>\n",
              "      <td>NaN</td>\n",
              "      <td>NaN</td>\n",
              "      <td>670</td>\n",
              "      <td>1266</td>\n",
              "      <td>1449</td>\n",
              "      <td>NaN</td>\n",
              "      <td>3</td>\n",
              "    </tr>\n",
              "  </tbody>\n",
              "</table>\n",
              "</div>"
            ],
            "text/plain": [
              "   vano  mes  hom_doloso  ...  indicador_roubo_veic  registro_ocorrencias  fase\n",
              "0  1991    1         657  ...                  1174                   NaN     3\n",
              "1  1991    2         732  ...                  1097                   NaN     3\n",
              "2  1991    3         713  ...                  1265                   NaN     3\n",
              "3  1991    4         634  ...                  1415                   NaN     3\n",
              "4  1991    5         650  ...                  1449                   NaN     3\n",
              "\n",
              "[5 rows x 56 columns]"
            ]
          },
          "metadata": {
            "tags": []
          },
          "execution_count": 4
        }
      ]
    },
    {
      "cell_type": "markdown",
      "metadata": {
        "id": "-0G8v8e0qkPH"
      },
      "source": [
        "Analisando as primeiras cinco entradas, percebemos que temos muitos dados ausentes, mas qual seria o motivo para termos a falta desses dados? \r\n",
        "\r\n",
        "Poderíamos sugerir algumas hipóteses para tentar entender essas ausências, e assim tentarmos contorná-las para continuar nossa exploração dos dados.\r\n",
        "\r\n",
        "\r\n",
        "\r\n",
        "*   Nota-se que os dados tem seu inicio de registro no ano de 1991, o que é bastante tempo atrás.\r\n",
        "Pode ser que esses dados não tenham sido contabilizados de maneira correta ou até mesmo na hora da coleta dessas informações para criação do dataset, essas informações podem ter sido registradas de maneira errada.\r\n",
        "No Brasil essa cultura de dados de informação é algo que ainda não possui um bom controle, agora imagina isso no período do ano inicial do dataset. Esses dados estarem ausentes, não quer dizer que não existiram, até porque é dificil imaginar o mês de *janeiro* do ano de  1991 sem nenhum desses crimes ausentes no dataset.\r\n",
        "\r\n",
        "Vamos analisar a proporção dos dados ausentes em relação à totalidade do dataset.\r\n",
        "\r\n"
      ]
    },
    {
      "cell_type": "code",
      "metadata": {
        "colab": {
          "base_uri": "https://localhost:8080/"
        },
        "id": "GA_-vgAp0IIn",
        "outputId": "fbf6a2da-2632-4dcb-afbc-833cffdadb31"
      },
      "source": [
        "# Ver os valores faltantes das colunas\r\n",
        "(df.isnull().sum()/ df.shape[0]).sort_values(ascending=False)"
      ],
      "execution_count": 5,
      "outputs": [
        {
          "output_type": "execute_result",
          "data": {
            "text/plain": [
              "roubo_bicicleta               0.802326\n",
              "furto_bicicleta               0.802326\n",
              "apreensao_drogas_sem_autor    0.523256\n",
              "posse_drogas                  0.523256\n",
              "apf                           0.523256\n",
              "aaapai                        0.523256\n",
              "cmp                           0.523256\n",
              "trafico_drogas                0.523256\n",
              "cmba                          0.523256\n",
              "sequestro_relampago           0.418605\n",
              "furto_coletivo                0.418605\n",
              "extorsao                      0.418605\n",
              "furto_celular                 0.418605\n",
              "roubo_apos_saque              0.418605\n",
              "roubo_conducao_saque          0.418605\n",
              "roubo_cx_eletronico           0.418605\n",
              "estupro                       0.418605\n",
              "estelionato                   0.418605\n",
              "pol_civis_mortos_serv         0.418605\n",
              "pol_militares_mortos_serv     0.418605\n",
              "pessoas_desaparecidas         0.383721\n",
              "encontro_ossada               0.383721\n",
              "roubo_celular                 0.313953\n",
              "lesao_corp_culposa            0.279070\n",
              "ameaca                        0.279070\n",
              "sequestro                     0.279070\n",
              "lesao_corp_morte              0.279070\n",
              "registro_ocorrencias          0.279070\n",
              "hom_por_interv_policial       0.244186\n",
              "hom_culposo                   0.244186\n",
              "tentat_hom                    0.000000\n",
              "roubo_comercio                0.000000\n",
              "roubo_residencia              0.000000\n",
              "latrocinio                    0.000000\n",
              "lesao_corp_dolosa             0.000000\n",
              "hom_doloso                    0.000000\n",
              "roubo_transeunte              0.000000\n",
              "mes                           0.000000\n",
              "roubo_veiculo                 0.000000\n",
              "roubo_carga                   0.000000\n",
              "fase                          0.000000\n",
              "roubo_em_coletivo             0.000000\n",
              "roubo_banco                   0.000000\n",
              "outros_roubos                 0.000000\n",
              "total_roubos                  0.000000\n",
              "furto_veiculos                0.000000\n",
              "furto_transeunte              0.000000\n",
              "outros_furtos                 0.000000\n",
              "total_furtos                  0.000000\n",
              "apreensao_drogas              0.000000\n",
              "recuperacao_veiculos          0.000000\n",
              "encontro_cadaver              0.000000\n",
              "indicador_letalidade          0.000000\n",
              "indicador_roubo_rua           0.000000\n",
              "indicador_roubo_veic          0.000000\n",
              "vano                          0.000000\n",
              "dtype: float64"
            ]
          },
          "metadata": {
            "tags": []
          },
          "execution_count": 5
        }
      ]
    },
    {
      "cell_type": "markdown",
      "metadata": {
        "id": "S6fdY6CmN5uV"
      },
      "source": [
        "Analisando os dados acima, podemos ver que existem variáveis com valores faltantes em proporções muito acima. Como por exemplo: `apreensao_drogas` e `furtos_veiculos`.\r\n",
        "\r\n",
        "Para realizarmos uma análise com maior eficaz, podemos analisar os dados a partir da data em que começaram a ser registrados."
      ]
    },
    {
      "cell_type": "markdown",
      "metadata": {
        "id": "QDEIo8_RSRa8"
      },
      "source": [
        "# Informações Estatísticas da Violência no Rio de Janeiro\r\n",
        "\r\n",
        "Utilizando o método `describe()`podemos visualizar a distribuição estatística do dataframe.\r\n",
        "\r\n",
        "A utilização desse método, nos auxilia em algumas informações importantes para nossa ajuda.\r\n",
        "\r\n",
        "\r\n",
        "\r\n",
        "*   Identificar outliers.\r\n",
        "*   Entender melhor a distribuição dos dados.\r\n",
        "*   Identificar falhas na distribuição dos dados.\r\n",
        "*   Após a limpeza dos dados, verificar a eficácia e as diferenças entre os dados tratados e não tratados.\r\n",
        "\r\n",
        "\r\n",
        "\r\n"
      ]
    },
    {
      "cell_type": "code",
      "metadata": {
        "colab": {
          "base_uri": "https://localhost:8080/",
          "height": 317
        },
        "id": "8jZ9G21bTlUD",
        "outputId": "613c19b8-2285-43ed-9dec-2333aaf91463"
      },
      "source": [
        "# Imprimir o resultado estatístico do DataFrame\r\n",
        "df.describe()"
      ],
      "execution_count": 6,
      "outputs": [
        {
          "output_type": "execute_result",
          "data": {
            "text/html": [
              "<div>\n",
              "<style scoped>\n",
              "    .dataframe tbody tr th:only-of-type {\n",
              "        vertical-align: middle;\n",
              "    }\n",
              "\n",
              "    .dataframe tbody tr th {\n",
              "        vertical-align: top;\n",
              "    }\n",
              "\n",
              "    .dataframe thead th {\n",
              "        text-align: right;\n",
              "    }\n",
              "</style>\n",
              "<table border=\"1\" class=\"dataframe\">\n",
              "  <thead>\n",
              "    <tr style=\"text-align: right;\">\n",
              "      <th></th>\n",
              "      <th>vano</th>\n",
              "      <th>mes</th>\n",
              "      <th>hom_doloso</th>\n",
              "      <th>lesao_corp_morte</th>\n",
              "      <th>latrocinio</th>\n",
              "      <th>hom_por_interv_policial</th>\n",
              "      <th>tentat_hom</th>\n",
              "      <th>lesao_corp_dolosa</th>\n",
              "      <th>estupro</th>\n",
              "      <th>hom_culposo</th>\n",
              "      <th>lesao_corp_culposa</th>\n",
              "      <th>roubo_comercio</th>\n",
              "      <th>roubo_residencia</th>\n",
              "      <th>roubo_veiculo</th>\n",
              "      <th>roubo_carga</th>\n",
              "      <th>roubo_transeunte</th>\n",
              "      <th>roubo_em_coletivo</th>\n",
              "      <th>roubo_banco</th>\n",
              "      <th>roubo_cx_eletronico</th>\n",
              "      <th>roubo_celular</th>\n",
              "      <th>roubo_conducao_saque</th>\n",
              "      <th>roubo_apos_saque</th>\n",
              "      <th>roubo_bicicleta</th>\n",
              "      <th>outros_roubos</th>\n",
              "      <th>total_roubos</th>\n",
              "      <th>furto_veiculos</th>\n",
              "      <th>furto_transeunte</th>\n",
              "      <th>furto_coletivo</th>\n",
              "      <th>furto_celular</th>\n",
              "      <th>furto_bicicleta</th>\n",
              "      <th>outros_furtos</th>\n",
              "      <th>total_furtos</th>\n",
              "      <th>sequestro</th>\n",
              "      <th>extorsao</th>\n",
              "      <th>sequestro_relampago</th>\n",
              "      <th>estelionato</th>\n",
              "      <th>apreensao_drogas</th>\n",
              "      <th>posse_drogas</th>\n",
              "      <th>trafico_drogas</th>\n",
              "      <th>apreensao_drogas_sem_autor</th>\n",
              "      <th>recuperacao_veiculos</th>\n",
              "      <th>apf</th>\n",
              "      <th>aaapai</th>\n",
              "      <th>cmp</th>\n",
              "      <th>cmba</th>\n",
              "      <th>ameaca</th>\n",
              "      <th>pessoas_desaparecidas</th>\n",
              "      <th>encontro_cadaver</th>\n",
              "      <th>encontro_ossada</th>\n",
              "      <th>pol_militares_mortos_serv</th>\n",
              "      <th>pol_civis_mortos_serv</th>\n",
              "      <th>indicador_letalidade</th>\n",
              "      <th>indicador_roubo_rua</th>\n",
              "      <th>indicador_roubo_veic</th>\n",
              "      <th>registro_ocorrencias</th>\n",
              "      <th>fase</th>\n",
              "    </tr>\n",
              "  </thead>\n",
              "  <tbody>\n",
              "    <tr>\n",
              "      <th>count</th>\n",
              "      <td>344.000000</td>\n",
              "      <td>344.000000</td>\n",
              "      <td>344.000000</td>\n",
              "      <td>248.000000</td>\n",
              "      <td>344.000000</td>\n",
              "      <td>260.00000</td>\n",
              "      <td>344.000000</td>\n",
              "      <td>344.000000</td>\n",
              "      <td>200.000000</td>\n",
              "      <td>260.000000</td>\n",
              "      <td>248.000000</td>\n",
              "      <td>344.000000</td>\n",
              "      <td>344.000000</td>\n",
              "      <td>344.000000</td>\n",
              "      <td>344.000000</td>\n",
              "      <td>344.000000</td>\n",
              "      <td>344.000000</td>\n",
              "      <td>344.000000</td>\n",
              "      <td>200.000000</td>\n",
              "      <td>236.000000</td>\n",
              "      <td>200.000000</td>\n",
              "      <td>200.000000</td>\n",
              "      <td>68.000000</td>\n",
              "      <td>344.000000</td>\n",
              "      <td>344.000000</td>\n",
              "      <td>344.000000</td>\n",
              "      <td>344.000000</td>\n",
              "      <td>200.000000</td>\n",
              "      <td>200.000000</td>\n",
              "      <td>68.000000</td>\n",
              "      <td>344.000000</td>\n",
              "      <td>344.000000</td>\n",
              "      <td>248.000000</td>\n",
              "      <td>200.000000</td>\n",
              "      <td>200.000000</td>\n",
              "      <td>200.000000</td>\n",
              "      <td>344.000000</td>\n",
              "      <td>164.000000</td>\n",
              "      <td>164.000000</td>\n",
              "      <td>164.000000</td>\n",
              "      <td>344.000000</td>\n",
              "      <td>164.000000</td>\n",
              "      <td>164.000000</td>\n",
              "      <td>164.000000</td>\n",
              "      <td>164.000000</td>\n",
              "      <td>248.000000</td>\n",
              "      <td>212.000000</td>\n",
              "      <td>344.000000</td>\n",
              "      <td>212.000000</td>\n",
              "      <td>200.000000</td>\n",
              "      <td>200.00000</td>\n",
              "      <td>344.000000</td>\n",
              "      <td>344.000000</td>\n",
              "      <td>344.000000</td>\n",
              "      <td>248.000000</td>\n",
              "      <td>344.000000</td>\n",
              "    </tr>\n",
              "    <tr>\n",
              "      <th>mean</th>\n",
              "      <td>2004.837209</td>\n",
              "      <td>6.453488</td>\n",
              "      <td>504.555233</td>\n",
              "      <td>4.334677</td>\n",
              "      <td>15.668605</td>\n",
              "      <td>71.90000</td>\n",
              "      <td>318.267442</td>\n",
              "      <td>5492.799419</td>\n",
              "      <td>369.945000</td>\n",
              "      <td>212.119231</td>\n",
              "      <td>3410.762097</td>\n",
              "      <td>455.005814</td>\n",
              "      <td>133.284884</td>\n",
              "      <td>2448.697674</td>\n",
              "      <td>340.322674</td>\n",
              "      <td>3418.520349</td>\n",
              "      <td>659.002907</td>\n",
              "      <td>9.375000</td>\n",
              "      <td>3.550000</td>\n",
              "      <td>957.974576</td>\n",
              "      <td>11.320000</td>\n",
              "      <td>145.665000</td>\n",
              "      <td>10.808824</td>\n",
              "      <td>1211.223837</td>\n",
              "      <td>9428.119186</td>\n",
              "      <td>1674.671512</td>\n",
              "      <td>1518.921512</td>\n",
              "      <td>650.230000</td>\n",
              "      <td>1449.175000</td>\n",
              "      <td>124.808824</td>\n",
              "      <td>5994.328488</td>\n",
              "      <td>10433.177326</td>\n",
              "      <td>0.665323</td>\n",
              "      <td>133.265000</td>\n",
              "      <td>7.755000</td>\n",
              "      <td>2231.860000</td>\n",
              "      <td>1071.930233</td>\n",
              "      <td>609.237805</td>\n",
              "      <td>759.146341</td>\n",
              "      <td>186.146341</td>\n",
              "      <td>1772.238372</td>\n",
              "      <td>2319.585366</td>\n",
              "      <td>568.628049</td>\n",
              "      <td>1255.512195</td>\n",
              "      <td>83.042683</td>\n",
              "      <td>5530.326613</td>\n",
              "      <td>435.132075</td>\n",
              "      <td>66.261628</td>\n",
              "      <td>3.301887</td>\n",
              "      <td>2.085000</td>\n",
              "      <td>0.34000</td>\n",
              "      <td>577.691860</td>\n",
              "      <td>4734.738372</td>\n",
              "      <td>2448.697674</td>\n",
              "      <td>53794.161290</td>\n",
              "      <td>2.994186</td>\n",
              "    </tr>\n",
              "    <tr>\n",
              "      <th>std</th>\n",
              "      <td>8.289036</td>\n",
              "      <td>3.447759</td>\n",
              "      <td>113.774481</td>\n",
              "      <td>2.755357</td>\n",
              "      <td>5.861427</td>\n",
              "      <td>36.48882</td>\n",
              "      <td>127.606645</td>\n",
              "      <td>1514.220579</td>\n",
              "      <td>94.392434</td>\n",
              "      <td>54.234700</td>\n",
              "      <td>776.156561</td>\n",
              "      <td>119.765076</td>\n",
              "      <td>44.317963</td>\n",
              "      <td>789.689559</td>\n",
              "      <td>223.855243</td>\n",
              "      <td>2459.017549</td>\n",
              "      <td>297.622342</td>\n",
              "      <td>10.564894</td>\n",
              "      <td>2.634808</td>\n",
              "      <td>624.309034</td>\n",
              "      <td>6.404113</td>\n",
              "      <td>55.392367</td>\n",
              "      <td>7.767628</td>\n",
              "      <td>800.576723</td>\n",
              "      <td>4578.013053</td>\n",
              "      <td>294.852020</td>\n",
              "      <td>971.853102</td>\n",
              "      <td>268.836273</td>\n",
              "      <td>368.638776</td>\n",
              "      <td>80.247427</td>\n",
              "      <td>1964.767779</td>\n",
              "      <td>3696.725756</td>\n",
              "      <td>0.959128</td>\n",
              "      <td>43.303821</td>\n",
              "      <td>5.089646</td>\n",
              "      <td>772.093064</td>\n",
              "      <td>643.381991</td>\n",
              "      <td>246.307700</td>\n",
              "      <td>312.871487</td>\n",
              "      <td>36.221243</td>\n",
              "      <td>656.761843</td>\n",
              "      <td>650.520866</td>\n",
              "      <td>248.040620</td>\n",
              "      <td>357.035450</td>\n",
              "      <td>62.951374</td>\n",
              "      <td>1100.752625</td>\n",
              "      <td>65.353516</td>\n",
              "      <td>34.464519</td>\n",
              "      <td>2.192922</td>\n",
              "      <td>1.761616</td>\n",
              "      <td>0.63752</td>\n",
              "      <td>104.973929</td>\n",
              "      <td>3204.054864</td>\n",
              "      <td>789.689559</td>\n",
              "      <td>11039.051992</td>\n",
              "      <td>0.076138</td>\n",
              "    </tr>\n",
              "    <tr>\n",
              "      <th>min</th>\n",
              "      <td>1991.000000</td>\n",
              "      <td>1.000000</td>\n",
              "      <td>272.000000</td>\n",
              "      <td>0.000000</td>\n",
              "      <td>2.000000</td>\n",
              "      <td>10.00000</td>\n",
              "      <td>122.000000</td>\n",
              "      <td>2350.000000</td>\n",
              "      <td>188.000000</td>\n",
              "      <td>111.000000</td>\n",
              "      <td>848.000000</td>\n",
              "      <td>243.000000</td>\n",
              "      <td>49.000000</td>\n",
              "      <td>1097.000000</td>\n",
              "      <td>59.000000</td>\n",
              "      <td>688.000000</td>\n",
              "      <td>281.000000</td>\n",
              "      <td>0.000000</td>\n",
              "      <td>0.000000</td>\n",
              "      <td>0.000000</td>\n",
              "      <td>1.000000</td>\n",
              "      <td>11.000000</td>\n",
              "      <td>0.000000</td>\n",
              "      <td>81.000000</td>\n",
              "      <td>3261.000000</td>\n",
              "      <td>1159.000000</td>\n",
              "      <td>322.000000</td>\n",
              "      <td>23.000000</td>\n",
              "      <td>484.000000</td>\n",
              "      <td>0.000000</td>\n",
              "      <td>2322.000000</td>\n",
              "      <td>4691.000000</td>\n",
              "      <td>0.000000</td>\n",
              "      <td>23.000000</td>\n",
              "      <td>0.000000</td>\n",
              "      <td>717.000000</td>\n",
              "      <td>80.000000</td>\n",
              "      <td>248.000000</td>\n",
              "      <td>262.000000</td>\n",
              "      <td>114.000000</td>\n",
              "      <td>729.000000</td>\n",
              "      <td>1173.000000</td>\n",
              "      <td>225.000000</td>\n",
              "      <td>628.000000</td>\n",
              "      <td>21.000000</td>\n",
              "      <td>1409.000000</td>\n",
              "      <td>236.000000</td>\n",
              "      <td>0.000000</td>\n",
              "      <td>0.000000</td>\n",
              "      <td>0.000000</td>\n",
              "      <td>0.00000</td>\n",
              "      <td>334.000000</td>\n",
              "      <td>1086.000000</td>\n",
              "      <td>1097.000000</td>\n",
              "      <td>30621.000000</td>\n",
              "      <td>2.000000</td>\n",
              "    </tr>\n",
              "    <tr>\n",
              "      <th>25%</th>\n",
              "      <td>1998.000000</td>\n",
              "      <td>3.000000</td>\n",
              "      <td>413.750000</td>\n",
              "      <td>2.000000</td>\n",
              "      <td>11.000000</td>\n",
              "      <td>41.75000</td>\n",
              "      <td>200.000000</td>\n",
              "      <td>4067.000000</td>\n",
              "      <td>282.000000</td>\n",
              "      <td>176.000000</td>\n",
              "      <td>3040.000000</td>\n",
              "      <td>365.750000</td>\n",
              "      <td>103.750000</td>\n",
              "      <td>1889.750000</td>\n",
              "      <td>208.250000</td>\n",
              "      <td>1053.000000</td>\n",
              "      <td>430.750000</td>\n",
              "      <td>2.000000</td>\n",
              "      <td>2.000000</td>\n",
              "      <td>549.750000</td>\n",
              "      <td>6.000000</td>\n",
              "      <td>106.000000</td>\n",
              "      <td>2.250000</td>\n",
              "      <td>811.750000</td>\n",
              "      <td>5107.750000</td>\n",
              "      <td>1430.500000</td>\n",
              "      <td>732.000000</td>\n",
              "      <td>501.000000</td>\n",
              "      <td>1297.000000</td>\n",
              "      <td>3.750000</td>\n",
              "      <td>3978.000000</td>\n",
              "      <td>6700.250000</td>\n",
              "      <td>0.000000</td>\n",
              "      <td>109.750000</td>\n",
              "      <td>4.750000</td>\n",
              "      <td>1654.500000</td>\n",
              "      <td>714.500000</td>\n",
              "      <td>360.500000</td>\n",
              "      <td>426.000000</td>\n",
              "      <td>160.000000</td>\n",
              "      <td>1276.750000</td>\n",
              "      <td>1681.000000</td>\n",
              "      <td>332.500000</td>\n",
              "      <td>950.500000</td>\n",
              "      <td>46.000000</td>\n",
              "      <td>4868.500000</td>\n",
              "      <td>390.000000</td>\n",
              "      <td>42.000000</td>\n",
              "      <td>2.000000</td>\n",
              "      <td>1.000000</td>\n",
              "      <td>0.00000</td>\n",
              "      <td>500.000000</td>\n",
              "      <td>1557.000000</td>\n",
              "      <td>1889.750000</td>\n",
              "      <td>45374.500000</td>\n",
              "      <td>3.000000</td>\n",
              "    </tr>\n",
              "    <tr>\n",
              "      <th>50%</th>\n",
              "      <td>2005.000000</td>\n",
              "      <td>6.000000</td>\n",
              "      <td>507.000000</td>\n",
              "      <td>4.000000</td>\n",
              "      <td>15.000000</td>\n",
              "      <td>70.00000</td>\n",
              "      <td>318.500000</td>\n",
              "      <td>5830.500000</td>\n",
              "      <td>384.000000</td>\n",
              "      <td>203.000000</td>\n",
              "      <td>3372.000000</td>\n",
              "      <td>433.500000</td>\n",
              "      <td>125.000000</td>\n",
              "      <td>2322.000000</td>\n",
              "      <td>285.500000</td>\n",
              "      <td>2788.500000</td>\n",
              "      <td>592.000000</td>\n",
              "      <td>4.500000</td>\n",
              "      <td>3.000000</td>\n",
              "      <td>717.500000</td>\n",
              "      <td>10.000000</td>\n",
              "      <td>149.500000</td>\n",
              "      <td>13.000000</td>\n",
              "      <td>1154.000000</td>\n",
              "      <td>9243.500000</td>\n",
              "      <td>1637.500000</td>\n",
              "      <td>1076.500000</td>\n",
              "      <td>717.500000</td>\n",
              "      <td>1492.500000</td>\n",
              "      <td>158.000000</td>\n",
              "      <td>6559.000000</td>\n",
              "      <td>10448.500000</td>\n",
              "      <td>0.000000</td>\n",
              "      <td>132.500000</td>\n",
              "      <td>7.000000</td>\n",
              "      <td>2170.500000</td>\n",
              "      <td>979.500000</td>\n",
              "      <td>623.000000</td>\n",
              "      <td>815.000000</td>\n",
              "      <td>184.000000</td>\n",
              "      <td>1755.000000</td>\n",
              "      <td>2424.000000</td>\n",
              "      <td>530.000000</td>\n",
              "      <td>1259.000000</td>\n",
              "      <td>58.000000</td>\n",
              "      <td>5455.000000</td>\n",
              "      <td>427.000000</td>\n",
              "      <td>60.500000</td>\n",
              "      <td>3.000000</td>\n",
              "      <td>2.000000</td>\n",
              "      <td>0.00000</td>\n",
              "      <td>590.000000</td>\n",
              "      <td>4190.000000</td>\n",
              "      <td>2322.000000</td>\n",
              "      <td>54926.500000</td>\n",
              "      <td>3.000000</td>\n",
              "    </tr>\n",
              "    <tr>\n",
              "      <th>75%</th>\n",
              "      <td>2012.000000</td>\n",
              "      <td>9.000000</td>\n",
              "      <td>577.250000</td>\n",
              "      <td>6.000000</td>\n",
              "      <td>19.000000</td>\n",
              "      <td>96.25000</td>\n",
              "      <td>398.250000</td>\n",
              "      <td>6582.500000</td>\n",
              "      <td>441.250000</td>\n",
              "      <td>236.250000</td>\n",
              "      <td>3733.500000</td>\n",
              "      <td>536.250000</td>\n",
              "      <td>151.250000</td>\n",
              "      <td>2778.000000</td>\n",
              "      <td>401.250000</td>\n",
              "      <td>5385.250000</td>\n",
              "      <td>784.000000</td>\n",
              "      <td>14.000000</td>\n",
              "      <td>5.000000</td>\n",
              "      <td>1306.750000</td>\n",
              "      <td>15.000000</td>\n",
              "      <td>180.500000</td>\n",
              "      <td>17.000000</td>\n",
              "      <td>1635.000000</td>\n",
              "      <td>11590.500000</td>\n",
              "      <td>1833.250000</td>\n",
              "      <td>2334.250000</td>\n",
              "      <td>860.000000</td>\n",
              "      <td>1731.250000</td>\n",
              "      <td>181.500000</td>\n",
              "      <td>7601.500000</td>\n",
              "      <td>13877.500000</td>\n",
              "      <td>1.000000</td>\n",
              "      <td>152.250000</td>\n",
              "      <td>11.000000</td>\n",
              "      <td>2880.500000</td>\n",
              "      <td>1546.000000</td>\n",
              "      <td>763.500000</td>\n",
              "      <td>1045.250000</td>\n",
              "      <td>208.000000</td>\n",
              "      <td>2202.000000</td>\n",
              "      <td>2905.500000</td>\n",
              "      <td>793.500000</td>\n",
              "      <td>1515.250000</td>\n",
              "      <td>93.000000</td>\n",
              "      <td>6261.750000</td>\n",
              "      <td>481.500000</td>\n",
              "      <td>87.000000</td>\n",
              "      <td>4.000000</td>\n",
              "      <td>3.000000</td>\n",
              "      <td>1.00000</td>\n",
              "      <td>649.000000</td>\n",
              "      <td>6872.750000</td>\n",
              "      <td>2778.000000</td>\n",
              "      <td>63292.500000</td>\n",
              "      <td>3.000000</td>\n",
              "    </tr>\n",
              "    <tr>\n",
              "      <th>max</th>\n",
              "      <td>2019.000000</td>\n",
              "      <td>12.000000</td>\n",
              "      <td>831.000000</td>\n",
              "      <td>21.000000</td>\n",
              "      <td>36.000000</td>\n",
              "      <td>194.00000</td>\n",
              "      <td>645.000000</td>\n",
              "      <td>9050.000000</td>\n",
              "      <td>561.000000</td>\n",
              "      <td>449.000000</td>\n",
              "      <td>6653.000000</td>\n",
              "      <td>914.000000</td>\n",
              "      <td>300.000000</td>\n",
              "      <td>5358.000000</td>\n",
              "      <td>1329.000000</td>\n",
              "      <td>9669.000000</td>\n",
              "      <td>1628.000000</td>\n",
              "      <td>54.000000</td>\n",
              "      <td>12.000000</td>\n",
              "      <td>2626.000000</td>\n",
              "      <td>37.000000</td>\n",
              "      <td>283.000000</td>\n",
              "      <td>26.000000</td>\n",
              "      <td>3661.000000</td>\n",
              "      <td>23203.000000</td>\n",
              "      <td>2630.000000</td>\n",
              "      <td>5368.000000</td>\n",
              "      <td>1036.000000</td>\n",
              "      <td>2215.000000</td>\n",
              "      <td>243.000000</td>\n",
              "      <td>9880.000000</td>\n",
              "      <td>18003.000000</td>\n",
              "      <td>5.000000</td>\n",
              "      <td>271.000000</td>\n",
              "      <td>31.000000</td>\n",
              "      <td>3627.000000</td>\n",
              "      <td>2543.000000</td>\n",
              "      <td>1160.000000</td>\n",
              "      <td>1282.000000</td>\n",
              "      <td>289.000000</td>\n",
              "      <td>3695.000000</td>\n",
              "      <td>3425.000000</td>\n",
              "      <td>1114.000000</td>\n",
              "      <td>2314.000000</td>\n",
              "      <td>350.000000</td>\n",
              "      <td>9034.000000</td>\n",
              "      <td>628.000000</td>\n",
              "      <td>217.000000</td>\n",
              "      <td>13.000000</td>\n",
              "      <td>10.000000</td>\n",
              "      <td>3.00000</td>\n",
              "      <td>848.000000</td>\n",
              "      <td>13833.000000</td>\n",
              "      <td>5358.000000</td>\n",
              "      <td>75403.000000</td>\n",
              "      <td>3.000000</td>\n",
              "    </tr>\n",
              "  </tbody>\n",
              "</table>\n",
              "</div>"
            ],
            "text/plain": [
              "              vano         mes  ...  registro_ocorrencias        fase\n",
              "count   344.000000  344.000000  ...            248.000000  344.000000\n",
              "mean   2004.837209    6.453488  ...          53794.161290    2.994186\n",
              "std       8.289036    3.447759  ...          11039.051992    0.076138\n",
              "min    1991.000000    1.000000  ...          30621.000000    2.000000\n",
              "25%    1998.000000    3.000000  ...          45374.500000    3.000000\n",
              "50%    2005.000000    6.000000  ...          54926.500000    3.000000\n",
              "75%    2012.000000    9.000000  ...          63292.500000    3.000000\n",
              "max    2019.000000   12.000000  ...          75403.000000    3.000000\n",
              "\n",
              "[8 rows x 56 columns]"
            ]
          },
          "metadata": {
            "tags": []
          },
          "execution_count": 6
        }
      ]
    },
    {
      "cell_type": "markdown",
      "metadata": {
        "id": "hVkrmV2zwgmf"
      },
      "source": [
        "### Dados a serem analisados.\r\n",
        "\r\n",
        "Vamos dedicar essa seção do projeto para analisarmos os dados em relação aos crimes de roubo e furto de veículos e residências.\r\n",
        "\r\n",
        "Dois bens pessoais que a maioria dos cidadões batalham para conquistar. Nosso dataset possui dados sobre esses crimes, com isso conseguimos utilizar as informações para encontrarmos resultados pertinentes em relação à situação e tambem ao combate a esses crimes."
      ]
    },
    {
      "cell_type": "markdown",
      "metadata": {
        "id": "oQcTw6_KnreJ"
      },
      "source": [
        "### Crimes Contra o Patrimônio - Veículos\r\n",
        "\r\n",
        "Abaixo iremos analisar os crimes envolvendo roubo e furtos de veículos."
      ]
    },
    {
      "cell_type": "code",
      "metadata": {
        "colab": {
          "base_uri": "https://localhost:8080/"
        },
        "id": "sdhD5XjZyhj3",
        "outputId": "e20688a0-901d-4f09-bdd8-79c94cfeca62"
      },
      "source": [
        "# Ver a média da variável roubo_veiculo\r\n",
        "mean_roubo_veiculo = df.roubo_veiculo.mean()\r\n",
        "print(round(mean_roubo_veiculo, 2))"
      ],
      "execution_count": 7,
      "outputs": [
        {
          "output_type": "stream",
          "text": [
            "2448.7\n"
          ],
          "name": "stdout"
        }
      ]
    },
    {
      "cell_type": "markdown",
      "metadata": {
        "id": "qGRQAMgyy68j"
      },
      "source": [
        "![historico-roubo-de-um-carro.png](data:image/png;base64,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)\r\n",
        "\r\n",
        "Acima, temos o resultado da média da variável de roubo de veículos: **2448.7** veículos por mês."
      ]
    },
    {
      "cell_type": "code",
      "metadata": {
        "colab": {
          "base_uri": "https://localhost:8080/"
        },
        "id": "yvYvHZS51DgT",
        "outputId": "34f413ba-4f57-4754-cf03-f67ce0ac1ba5"
      },
      "source": [
        "# Ver a média da variável furto_veiculos\r\n",
        "mean_furto_veiculos = df.furto_veiculos.mean()\r\n",
        "print(round(mean_furto_veiculos, 2))"
      ],
      "execution_count": 8,
      "outputs": [
        {
          "output_type": "stream",
          "text": [
            "1674.67\n"
          ],
          "name": "stdout"
        }
      ]
    },
    {
      "cell_type": "markdown",
      "metadata": {
        "id": "dR5CGjwI1kGR"
      },
      "source": [
        "A relação de furto de veículos, possui números menores, mas ainda muito significativos, causando danos ao cidadão carioca. Em média são registrados **1674.67** furtos de veículos por mês."
      ]
    },
    {
      "cell_type": "code",
      "metadata": {
        "colab": {
          "base_uri": "https://localhost:8080/"
        },
        "id": "6MwARVRe1Vbh",
        "outputId": "cb32c1d6-28ae-4bca-aee6-70fc629566d3"
      },
      "source": [
        "# Ver a média da variável recuperacao_veiculos\r\n",
        "mean_recuperacao_veiculos = df.recuperacao_veiculos.mean()\r\n",
        "print(round(mean_recuperacao_veiculos,2))"
      ],
      "execution_count": 9,
      "outputs": [
        {
          "output_type": "stream",
          "text": [
            "1772.24\n"
          ],
          "name": "stdout"
        }
      ]
    },
    {
      "cell_type": "markdown",
      "metadata": {
        "id": "UTJcQ9qtgLTn"
      },
      "source": [
        "O número da média de veículos recuperados é **1772.24**, parece ser um número alto, mas comparando com a média de roubos **2448.7**, podemos concluir que muitos cidadões ainda ficam no prejuízo."
      ]
    },
    {
      "cell_type": "code",
      "metadata": {
        "colab": {
          "base_uri": "https://localhost:8080/"
        },
        "id": "HFuHDMCXhI6L",
        "outputId": "6ff28948-49f7-4815-9b31-5e10facf0814"
      },
      "source": [
        "# Total de veículos perdidos\r\n",
        "total = mean_roubo_veiculo + mean_furto_veiculos\r\n",
        "print('Média de veículos perdidos por mês: {:.2f}'.format(total))\r\n",
        "print('Veículos recuperados por mês: {:.2f}'.format(mean_recuperacao_veiculos))\r\n",
        "\r\n",
        "# Porcentagem de veículos recuperados\r\n",
        "mean_recuperacao_veiculos = df.recuperacao_veiculos.mean()\r\n",
        "pct = mean_recuperacao_veiculos/total*100\r\n",
        "\r\n",
        "print('{:.2f}% dos veículos roubados ou furtados são recuperados.'.format(pct))\r\n"
      ],
      "execution_count": 10,
      "outputs": [
        {
          "output_type": "stream",
          "text": [
            "Média de veículos perdidos por mês: 4123.37\n",
            "Veículos recuperados por mês: 1772.24\n",
            "42.98% dos veículos roubados ou furtados são recuperados.\n"
          ],
          "name": "stdout"
        }
      ]
    },
    {
      "cell_type": "markdown",
      "metadata": {
        "id": "9wtrBLX3i2pR"
      },
      "source": [
        "Acima temos a representação dos valores mensais de algumas variáveis:\r\n",
        "\r\n",
        " Média de `veículos perdidos por mês:` **4123.37**.\r\n",
        "\r\n",
        "Média de `veículos recuperados por mês:`**1772.24**.\r\n",
        "\r\n",
        "Percentual de `recuperação de veículos roubados ou furtados`: **42.98%**.\r\n",
        "\r\n",
        "\r\n",
        "\r\n"
      ]
    },
    {
      "cell_type": "code",
      "metadata": {
        "colab": {
          "base_uri": "https://localhost:8080/"
        },
        "id": "sxNyY8dyCvCi",
        "outputId": "f929080f-f42b-4cac-b8f8-db3adf21b618"
      },
      "source": [
        "# Valores min e max de roubo_veiculos\r\n",
        "min_roubo_veic = df.roubo_veiculo.min()\r\n",
        "max_roubo_veic = df.roubo_veiculo.max()\r\n",
        "\r\n",
        "# Imprimir os valores máximos e mínimos\r\n",
        "print(\"Min:\\t{}\".format(min_roubo_veic))\r\n",
        "print(\"Max:\\t{}\".format(max_roubo_veic))"
      ],
      "execution_count": 20,
      "outputs": [
        {
          "output_type": "stream",
          "text": [
            "Min:\t1097\n",
            "Max:\t5358\n"
          ],
          "name": "stdout"
        }
      ]
    },
    {
      "cell_type": "markdown",
      "metadata": {
        "id": "OSR9opprDLvZ"
      },
      "source": [
        "O menor valor mensal, registrado de roubo de veículos é de **1097**.\r\n",
        "\r\n",
        "Enquanto o maior valor é de **5358**. Vamos verificar em quais meses e anos esses dados foram registrados."
      ]
    },
    {
      "cell_type": "code",
      "metadata": {
        "colab": {
          "base_uri": "https://localhost:8080/",
          "height": 100
        },
        "id": "C21IH-R4ER54",
        "outputId": "2997ab9f-9301-484b-b6fb-46057d6b18e6"
      },
      "source": [
        "# Verificando ano e mês com menor número de roubos a veículos.\r\n",
        "df[df.roubo_veiculo == 1097]"
      ],
      "execution_count": 21,
      "outputs": [
        {
          "output_type": "execute_result",
          "data": {
            "text/html": [
              "<div>\n",
              "<style scoped>\n",
              "    .dataframe tbody tr th:only-of-type {\n",
              "        vertical-align: middle;\n",
              "    }\n",
              "\n",
              "    .dataframe tbody tr th {\n",
              "        vertical-align: top;\n",
              "    }\n",
              "\n",
              "    .dataframe thead th {\n",
              "        text-align: right;\n",
              "    }\n",
              "</style>\n",
              "<table border=\"1\" class=\"dataframe\">\n",
              "  <thead>\n",
              "    <tr style=\"text-align: right;\">\n",
              "      <th></th>\n",
              "      <th>vano</th>\n",
              "      <th>mes</th>\n",
              "      <th>hom_doloso</th>\n",
              "      <th>lesao_corp_morte</th>\n",
              "      <th>latrocinio</th>\n",
              "      <th>hom_por_interv_policial</th>\n",
              "      <th>tentat_hom</th>\n",
              "      <th>lesao_corp_dolosa</th>\n",
              "      <th>estupro</th>\n",
              "      <th>hom_culposo</th>\n",
              "      <th>lesao_corp_culposa</th>\n",
              "      <th>roubo_comercio</th>\n",
              "      <th>roubo_residencia</th>\n",
              "      <th>roubo_veiculo</th>\n",
              "      <th>roubo_carga</th>\n",
              "      <th>roubo_transeunte</th>\n",
              "      <th>roubo_em_coletivo</th>\n",
              "      <th>roubo_banco</th>\n",
              "      <th>roubo_cx_eletronico</th>\n",
              "      <th>roubo_celular</th>\n",
              "      <th>roubo_conducao_saque</th>\n",
              "      <th>roubo_apos_saque</th>\n",
              "      <th>roubo_bicicleta</th>\n",
              "      <th>outros_roubos</th>\n",
              "      <th>total_roubos</th>\n",
              "      <th>furto_veiculos</th>\n",
              "      <th>furto_transeunte</th>\n",
              "      <th>furto_coletivo</th>\n",
              "      <th>furto_celular</th>\n",
              "      <th>furto_bicicleta</th>\n",
              "      <th>outros_furtos</th>\n",
              "      <th>total_furtos</th>\n",
              "      <th>sequestro</th>\n",
              "      <th>extorsao</th>\n",
              "      <th>sequestro_relampago</th>\n",
              "      <th>estelionato</th>\n",
              "      <th>apreensao_drogas</th>\n",
              "      <th>posse_drogas</th>\n",
              "      <th>trafico_drogas</th>\n",
              "      <th>apreensao_drogas_sem_autor</th>\n",
              "      <th>recuperacao_veiculos</th>\n",
              "      <th>apf</th>\n",
              "      <th>aaapai</th>\n",
              "      <th>cmp</th>\n",
              "      <th>cmba</th>\n",
              "      <th>ameaca</th>\n",
              "      <th>pessoas_desaparecidas</th>\n",
              "      <th>encontro_cadaver</th>\n",
              "      <th>encontro_ossada</th>\n",
              "      <th>pol_militares_mortos_serv</th>\n",
              "      <th>pol_civis_mortos_serv</th>\n",
              "      <th>indicador_letalidade</th>\n",
              "      <th>indicador_roubo_rua</th>\n",
              "      <th>indicador_roubo_veic</th>\n",
              "      <th>registro_ocorrencias</th>\n",
              "      <th>fase</th>\n",
              "    </tr>\n",
              "  </thead>\n",
              "  <tbody>\n",
              "    <tr>\n",
              "      <th>1</th>\n",
              "      <td>1991</td>\n",
              "      <td>2</td>\n",
              "      <td>732</td>\n",
              "      <td>NaN</td>\n",
              "      <td>17</td>\n",
              "      <td>NaN</td>\n",
              "      <td>175</td>\n",
              "      <td>3421</td>\n",
              "      <td>NaN</td>\n",
              "      <td>NaN</td>\n",
              "      <td>NaN</td>\n",
              "      <td>357</td>\n",
              "      <td>171</td>\n",
              "      <td>1097</td>\n",
              "      <td>64</td>\n",
              "      <td>963</td>\n",
              "      <td>432</td>\n",
              "      <td>35</td>\n",
              "      <td>NaN</td>\n",
              "      <td>NaN</td>\n",
              "      <td>NaN</td>\n",
              "      <td>NaN</td>\n",
              "      <td>NaN</td>\n",
              "      <td>142</td>\n",
              "      <td>3261</td>\n",
              "      <td>1850</td>\n",
              "      <td>1066</td>\n",
              "      <td>NaN</td>\n",
              "      <td>NaN</td>\n",
              "      <td>NaN</td>\n",
              "      <td>3309</td>\n",
              "      <td>6225</td>\n",
              "      <td>NaN</td>\n",
              "      <td>NaN</td>\n",
              "      <td>NaN</td>\n",
              "      <td>NaN</td>\n",
              "      <td>127</td>\n",
              "      <td>NaN</td>\n",
              "      <td>NaN</td>\n",
              "      <td>NaN</td>\n",
              "      <td>751</td>\n",
              "      <td>NaN</td>\n",
              "      <td>NaN</td>\n",
              "      <td>NaN</td>\n",
              "      <td>NaN</td>\n",
              "      <td>NaN</td>\n",
              "      <td>NaN</td>\n",
              "      <td>209</td>\n",
              "      <td>NaN</td>\n",
              "      <td>NaN</td>\n",
              "      <td>NaN</td>\n",
              "      <td>749</td>\n",
              "      <td>1395</td>\n",
              "      <td>1097</td>\n",
              "      <td>NaN</td>\n",
              "      <td>3</td>\n",
              "    </tr>\n",
              "  </tbody>\n",
              "</table>\n",
              "</div>"
            ],
            "text/plain": [
              "   vano  mes  hom_doloso  ...  indicador_roubo_veic  registro_ocorrencias  fase\n",
              "1  1991    2         732  ...                  1097                   NaN     3\n",
              "\n",
              "[1 rows x 56 columns]"
            ]
          },
          "metadata": {
            "tags": []
          },
          "execution_count": 21
        }
      ]
    },
    {
      "cell_type": "markdown",
      "metadata": {
        "id": "dQpxU6jREw5r"
      },
      "source": [
        "Acima podemos ver que o mês de **fevereiro** de 1991 é o mês com o menor número de registros de roubo de veículos."
      ]
    },
    {
      "cell_type": "code",
      "metadata": {
        "colab": {
          "base_uri": "https://localhost:8080/",
          "height": 100
        },
        "id": "6F9dZZ-zFW86",
        "outputId": "c85652c7-7687-4e01-9cf4-27942a798f90"
      },
      "source": [
        "# Verificando ano e mês com o maior número de roubos a veículos\r\n",
        "df[df.roubo_veiculo == 5358]"
      ],
      "execution_count": 22,
      "outputs": [
        {
          "output_type": "execute_result",
          "data": {
            "text/html": [
              "<div>\n",
              "<style scoped>\n",
              "    .dataframe tbody tr th:only-of-type {\n",
              "        vertical-align: middle;\n",
              "    }\n",
              "\n",
              "    .dataframe tbody tr th {\n",
              "        vertical-align: top;\n",
              "    }\n",
              "\n",
              "    .dataframe thead th {\n",
              "        text-align: right;\n",
              "    }\n",
              "</style>\n",
              "<table border=\"1\" class=\"dataframe\">\n",
              "  <thead>\n",
              "    <tr style=\"text-align: right;\">\n",
              "      <th></th>\n",
              "      <th>vano</th>\n",
              "      <th>mes</th>\n",
              "      <th>hom_doloso</th>\n",
              "      <th>lesao_corp_morte</th>\n",
              "      <th>latrocinio</th>\n",
              "      <th>hom_por_interv_policial</th>\n",
              "      <th>tentat_hom</th>\n",
              "      <th>lesao_corp_dolosa</th>\n",
              "      <th>estupro</th>\n",
              "      <th>hom_culposo</th>\n",
              "      <th>lesao_corp_culposa</th>\n",
              "      <th>roubo_comercio</th>\n",
              "      <th>roubo_residencia</th>\n",
              "      <th>roubo_veiculo</th>\n",
              "      <th>roubo_carga</th>\n",
              "      <th>roubo_transeunte</th>\n",
              "      <th>roubo_em_coletivo</th>\n",
              "      <th>roubo_banco</th>\n",
              "      <th>roubo_cx_eletronico</th>\n",
              "      <th>roubo_celular</th>\n",
              "      <th>roubo_conducao_saque</th>\n",
              "      <th>roubo_apos_saque</th>\n",
              "      <th>roubo_bicicleta</th>\n",
              "      <th>outros_roubos</th>\n",
              "      <th>total_roubos</th>\n",
              "      <th>furto_veiculos</th>\n",
              "      <th>furto_transeunte</th>\n",
              "      <th>furto_coletivo</th>\n",
              "      <th>furto_celular</th>\n",
              "      <th>furto_bicicleta</th>\n",
              "      <th>outros_furtos</th>\n",
              "      <th>total_furtos</th>\n",
              "      <th>sequestro</th>\n",
              "      <th>extorsao</th>\n",
              "      <th>sequestro_relampago</th>\n",
              "      <th>estelionato</th>\n",
              "      <th>apreensao_drogas</th>\n",
              "      <th>posse_drogas</th>\n",
              "      <th>trafico_drogas</th>\n",
              "      <th>apreensao_drogas_sem_autor</th>\n",
              "      <th>recuperacao_veiculos</th>\n",
              "      <th>apf</th>\n",
              "      <th>aaapai</th>\n",
              "      <th>cmp</th>\n",
              "      <th>cmba</th>\n",
              "      <th>ameaca</th>\n",
              "      <th>pessoas_desaparecidas</th>\n",
              "      <th>encontro_cadaver</th>\n",
              "      <th>encontro_ossada</th>\n",
              "      <th>pol_militares_mortos_serv</th>\n",
              "      <th>pol_civis_mortos_serv</th>\n",
              "      <th>indicador_letalidade</th>\n",
              "      <th>indicador_roubo_rua</th>\n",
              "      <th>indicador_roubo_veic</th>\n",
              "      <th>registro_ocorrencias</th>\n",
              "      <th>fase</th>\n",
              "    </tr>\n",
              "  </thead>\n",
              "  <tbody>\n",
              "    <tr>\n",
              "      <th>326</th>\n",
              "      <td>2018</td>\n",
              "      <td>3</td>\n",
              "      <td>508</td>\n",
              "      <td>6.0</td>\n",
              "      <td>20</td>\n",
              "      <td>109.0</td>\n",
              "      <td>553</td>\n",
              "      <td>5473</td>\n",
              "      <td>452.0</td>\n",
              "      <td>171.0</td>\n",
              "      <td>2308.0</td>\n",
              "      <td>638</td>\n",
              "      <td>115</td>\n",
              "      <td>5358</td>\n",
              "      <td>918</td>\n",
              "      <td>7638</td>\n",
              "      <td>1385</td>\n",
              "      <td>2</td>\n",
              "      <td>5.0</td>\n",
              "      <td>2183.0</td>\n",
              "      <td>9.0</td>\n",
              "      <td>52.0</td>\n",
              "      <td>8.0</td>\n",
              "      <td>2729</td>\n",
              "      <td>21040</td>\n",
              "      <td>1249</td>\n",
              "      <td>1623</td>\n",
              "      <td>743.0</td>\n",
              "      <td>1224.0</td>\n",
              "      <td>150.0</td>\n",
              "      <td>6557</td>\n",
              "      <td>11546</td>\n",
              "      <td>0.0</td>\n",
              "      <td>136.0</td>\n",
              "      <td>4.0</td>\n",
              "      <td>2654.0</td>\n",
              "      <td>1744</td>\n",
              "      <td>673.0</td>\n",
              "      <td>950.0</td>\n",
              "      <td>152.0</td>\n",
              "      <td>3450</td>\n",
              "      <td>2795.0</td>\n",
              "      <td>577.0</td>\n",
              "      <td>1347.0</td>\n",
              "      <td>109.0</td>\n",
              "      <td>4962.0</td>\n",
              "      <td>428.0</td>\n",
              "      <td>33</td>\n",
              "      <td>1.0</td>\n",
              "      <td>4.0</td>\n",
              "      <td>0.0</td>\n",
              "      <td>643</td>\n",
              "      <td>11206</td>\n",
              "      <td>5358</td>\n",
              "      <td>66035.0</td>\n",
              "      <td>3</td>\n",
              "    </tr>\n",
              "  </tbody>\n",
              "</table>\n",
              "</div>"
            ],
            "text/plain": [
              "     vano  mes  hom_doloso  ...  indicador_roubo_veic  registro_ocorrencias  fase\n",
              "326  2018    3         508  ...                  5358               66035.0     3\n",
              "\n",
              "[1 rows x 56 columns]"
            ]
          },
          "metadata": {
            "tags": []
          },
          "execution_count": 22
        }
      ]
    },
    {
      "cell_type": "markdown",
      "metadata": {
        "id": "6-DprxJDF-we"
      },
      "source": [
        "Acima verificamos que o mês de **março** de 2018 é o mês com maior número de registros de roubos de veículos."
      ]
    },
    {
      "cell_type": "markdown",
      "metadata": {
        "id": "X76BXa6wGjid"
      },
      "source": [
        "### Visualização dos Dados de Roubos e Furtos de Veículos\r\n",
        "\r\n",
        "Histogramas são excelentes ferramentas de visualização, nos auxiliam a entender melhor os valores de distribuição em uma variável.\r\n",
        "\r\n",
        "Vamos visualizar a variável roubo_veiculo no histograma abaixo."
      ]
    },
    {
      "cell_type": "code",
      "metadata": {
        "colab": {
          "base_uri": "https://localhost:8080/",
          "height": 265
        },
        "id": "YArnN5DGHDWv",
        "outputId": "317c866e-a2ce-4842-ef56-5c9a48fddbb3"
      },
      "source": [
        "# Plotar histograma de roubo_veiculo\r\n",
        "df.roubo_veiculo.hist();"
      ],
      "execution_count": 23,
      "outputs": [
        {
          "output_type": "display_data",
          "data": {
            "image/png": "[encoded data removed]",
            "text/plain": [
              "<Figure size 432x288 with 1 Axes>"
            ]
          },
          "metadata": {
            "tags": [],
            "needs_background": "light"
          }
        }
      ]
    },
    {
      "cell_type": "markdown",
      "metadata": {
        "id": "h3dV9pmLHbBH"
      },
      "source": [
        "Analisando o gráfico acima, podemos concluir algumas informações:\r\n",
        "\r\n",
        "* Em mais de **80** meses os números de roubos de veículos registrados, ficaram entre 2000-2800 registros.\r\n",
        "\r\n",
        "* E algo em torno de **5** meses com registros entre 5000-5500.\r\n",
        "\r\n",
        "Vamos analisar essa mesma variável em um gráfico de linhas."
      ]
    },
    {
      "cell_type": "code",
      "metadata": {
        "colab": {
          "base_uri": "https://localhost:8080/",
          "height": 265
        },
        "id": "3TcEyOy5JLDA",
        "outputId": "cb98e311-b7b5-4b7b-b83a-389b034fd2e8"
      },
      "source": [
        "# Plotar gráfico de linhas para roubo_veiculo\r\n",
        "df.roubo_veiculo.plot();"
      ],
      "execution_count": 24,
      "outputs": [
        {
          "output_type": "display_data",
          "data": {
            "image/png": "[encoded data removed]",
            "text/plain": [
              "<Figure size 432x288 with 1 Axes>"
            ]
          },
          "metadata": {
            "tags": [],
            "needs_background": "light"
          }
        }
      ]
    },
    {
      "cell_type": "markdown",
      "metadata": {
        "id": "aqkdWq2LJbbj"
      },
      "source": [
        "Como já tinhamos visto na extração dos dados anteriormente, o número de roubo de veículos só aumentou em relação ao inicio da coleta dos dados do dataset.\r\n",
        "\r\n",
        "Atualmente teve uma queda nesse número, mas nada muito perto dos valores iniciais."
      ]
    },
    {
      "cell_type": "markdown",
      "metadata": {
        "id": "SsZT1RD4n1VY"
      },
      "source": [
        "### Crimes Contra o Patrimônio - Residências\r\n",
        "\r\n",
        "Agora iremos analisar a variável de roubos a residências."
      ]
    },
    {
      "cell_type": "markdown",
      "metadata": {
        "id": "tpXMFaMbtFYT"
      },
      "source": [
        "![roubo casa.jpg](data:image/jpeg;base64,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)"
      ]
    },
    {
      "cell_type": "code",
      "metadata": {
        "colab": {
          "base_uri": "https://localhost:8080/"
        },
        "id": "NYf2bClPo3WF",
        "outputId": "1f5c6b94-5cb6-4340-95cd-81569410850e"
      },
      "source": [
        "# Valores min e max de roubo_residencia\r\n",
        "min_roubo_resid = df.roubo_residencia.min()\r\n",
        "max_roubo_resid = df.roubo_residencia.max()\r\n",
        "\r\n",
        "# Imprimir os valores máximos e mínimos\r\n",
        "print(\"Min:\\t{}\".format(min_roubo_resid))\r\n",
        "print(\"Max:\\t{}\".format(max_roubo_resid))"
      ],
      "execution_count": 14,
      "outputs": [
        {
          "output_type": "stream",
          "text": [
            "Min:\t49\n",
            "Max:\t300\n"
          ],
          "name": "stdout"
        }
      ]
    },
    {
      "cell_type": "markdown",
      "metadata": {
        "id": "mfNThez5qg3k"
      },
      "source": [
        "Acima podemos ver que o menor valor de registro dentro de um mês, foi igual a **49** e o maior valor de registro foi de **300**.\r\n",
        "\r\n",
        "Vamos verificar anos e meses desses dados."
      ]
    },
    {
      "cell_type": "code",
      "metadata": {
        "colab": {
          "base_uri": "https://localhost:8080/",
          "height": 100
        },
        "id": "UvBW5xRmrka6",
        "outputId": "02af0a85-c671-48e0-f7e1-169fc4a39229"
      },
      "source": [
        "# Verificando ano e mês com menor número de roubos a residencias\r\n",
        "df[df.roubo_residencia == 49]"
      ],
      "execution_count": 15,
      "outputs": [
        {
          "output_type": "execute_result",
          "data": {
            "text/html": [
              "<div>\n",
              "<style scoped>\n",
              "    .dataframe tbody tr th:only-of-type {\n",
              "        vertical-align: middle;\n",
              "    }\n",
              "\n",
              "    .dataframe tbody tr th {\n",
              "        vertical-align: top;\n",
              "    }\n",
              "\n",
              "    .dataframe thead th {\n",
              "        text-align: right;\n",
              "    }\n",
              "</style>\n",
              "<table border=\"1\" class=\"dataframe\">\n",
              "  <thead>\n",
              "    <tr style=\"text-align: right;\">\n",
              "      <th></th>\n",
              "      <th>vano</th>\n",
              "      <th>mes</th>\n",
              "      <th>hom_doloso</th>\n",
              "      <th>lesao_corp_morte</th>\n",
              "      <th>latrocinio</th>\n",
              "      <th>hom_por_interv_policial</th>\n",
              "      <th>tentat_hom</th>\n",
              "      <th>lesao_corp_dolosa</th>\n",
              "      <th>estupro</th>\n",
              "      <th>hom_culposo</th>\n",
              "      <th>lesao_corp_culposa</th>\n",
              "      <th>roubo_comercio</th>\n",
              "      <th>roubo_residencia</th>\n",
              "      <th>roubo_veiculo</th>\n",
              "      <th>roubo_carga</th>\n",
              "      <th>roubo_transeunte</th>\n",
              "      <th>roubo_em_coletivo</th>\n",
              "      <th>roubo_banco</th>\n",
              "      <th>roubo_cx_eletronico</th>\n",
              "      <th>roubo_celular</th>\n",
              "      <th>roubo_conducao_saque</th>\n",
              "      <th>roubo_apos_saque</th>\n",
              "      <th>roubo_bicicleta</th>\n",
              "      <th>outros_roubos</th>\n",
              "      <th>total_roubos</th>\n",
              "      <th>furto_veiculos</th>\n",
              "      <th>furto_transeunte</th>\n",
              "      <th>furto_coletivo</th>\n",
              "      <th>furto_celular</th>\n",
              "      <th>furto_bicicleta</th>\n",
              "      <th>outros_furtos</th>\n",
              "      <th>total_furtos</th>\n",
              "      <th>sequestro</th>\n",
              "      <th>extorsao</th>\n",
              "      <th>sequestro_relampago</th>\n",
              "      <th>estelionato</th>\n",
              "      <th>apreensao_drogas</th>\n",
              "      <th>posse_drogas</th>\n",
              "      <th>trafico_drogas</th>\n",
              "      <th>apreensao_drogas_sem_autor</th>\n",
              "      <th>recuperacao_veiculos</th>\n",
              "      <th>apf</th>\n",
              "      <th>aaapai</th>\n",
              "      <th>cmp</th>\n",
              "      <th>cmba</th>\n",
              "      <th>ameaca</th>\n",
              "      <th>pessoas_desaparecidas</th>\n",
              "      <th>encontro_cadaver</th>\n",
              "      <th>encontro_ossada</th>\n",
              "      <th>pol_militares_mortos_serv</th>\n",
              "      <th>pol_civis_mortos_serv</th>\n",
              "      <th>indicador_letalidade</th>\n",
              "      <th>indicador_roubo_rua</th>\n",
              "      <th>indicador_roubo_veic</th>\n",
              "      <th>registro_ocorrencias</th>\n",
              "      <th>fase</th>\n",
              "    </tr>\n",
              "  </thead>\n",
              "  <tbody>\n",
              "    <tr>\n",
              "      <th>313</th>\n",
              "      <td>2017</td>\n",
              "      <td>2</td>\n",
              "      <td>503</td>\n",
              "      <td>4.0</td>\n",
              "      <td>26</td>\n",
              "      <td>85.0</td>\n",
              "      <td>452</td>\n",
              "      <td>2521</td>\n",
              "      <td>324.0</td>\n",
              "      <td>170.0</td>\n",
              "      <td>848.0</td>\n",
              "      <td>277</td>\n",
              "      <td>49</td>\n",
              "      <td>4286</td>\n",
              "      <td>452</td>\n",
              "      <td>2260</td>\n",
              "      <td>487</td>\n",
              "      <td>0</td>\n",
              "      <td>4.0</td>\n",
              "      <td>551.0</td>\n",
              "      <td>3.0</td>\n",
              "      <td>11.0</td>\n",
              "      <td>4.0</td>\n",
              "      <td>1330</td>\n",
              "      <td>9714</td>\n",
              "      <td>1310</td>\n",
              "      <td>663</td>\n",
              "      <td>167.0</td>\n",
              "      <td>527.0</td>\n",
              "      <td>39.0</td>\n",
              "      <td>3089</td>\n",
              "      <td>5795</td>\n",
              "      <td>0.0</td>\n",
              "      <td>49.0</td>\n",
              "      <td>8.0</td>\n",
              "      <td>717.0</td>\n",
              "      <td>1266</td>\n",
              "      <td>372.0</td>\n",
              "      <td>808.0</td>\n",
              "      <td>120.0</td>\n",
              "      <td>2307</td>\n",
              "      <td>2396.0</td>\n",
              "      <td>535.0</td>\n",
              "      <td>882.0</td>\n",
              "      <td>82.0</td>\n",
              "      <td>1409.0</td>\n",
              "      <td>236.0</td>\n",
              "      <td>39</td>\n",
              "      <td>1.0</td>\n",
              "      <td>1.0</td>\n",
              "      <td>0.0</td>\n",
              "      <td>618</td>\n",
              "      <td>3298</td>\n",
              "      <td>4286</td>\n",
              "      <td>31231.0</td>\n",
              "      <td>3</td>\n",
              "    </tr>\n",
              "  </tbody>\n",
              "</table>\n",
              "</div>"
            ],
            "text/plain": [
              "     vano  mes  hom_doloso  ...  indicador_roubo_veic  registro_ocorrencias  fase\n",
              "313  2017    2         503  ...                  4286               31231.0     3\n",
              "\n",
              "[1 rows x 56 columns]"
            ]
          },
          "metadata": {
            "tags": []
          },
          "execution_count": 15
        }
      ]
    },
    {
      "cell_type": "markdown",
      "metadata": {
        "id": "XiZNXVC3vaHK"
      },
      "source": [
        "*Fevereiro* de **2017** foi o ano com o menor registros de roubos a residências registrados no nosso dataset."
      ]
    },
    {
      "cell_type": "code",
      "metadata": {
        "colab": {
          "base_uri": "https://localhost:8080/",
          "height": 100
        },
        "id": "CLnMaIDpv8YT",
        "outputId": "fa1c328b-c291-4ae4-aa86-0f83af656979"
      },
      "source": [
        "# Verificando ano e mês com maior número de roubos a residências\r\n",
        "df[df.roubo_residencia == 300]"
      ],
      "execution_count": 16,
      "outputs": [
        {
          "output_type": "execute_result",
          "data": {
            "text/html": [
              "<div>\n",
              "<style scoped>\n",
              "    .dataframe tbody tr th:only-of-type {\n",
              "        vertical-align: middle;\n",
              "    }\n",
              "\n",
              "    .dataframe tbody tr th {\n",
              "        vertical-align: top;\n",
              "    }\n",
              "\n",
              "    .dataframe thead th {\n",
              "        text-align: right;\n",
              "    }\n",
              "</style>\n",
              "<table border=\"1\" class=\"dataframe\">\n",
              "  <thead>\n",
              "    <tr style=\"text-align: right;\">\n",
              "      <th></th>\n",
              "      <th>vano</th>\n",
              "      <th>mes</th>\n",
              "      <th>hom_doloso</th>\n",
              "      <th>lesao_corp_morte</th>\n",
              "      <th>latrocinio</th>\n",
              "      <th>hom_por_interv_policial</th>\n",
              "      <th>tentat_hom</th>\n",
              "      <th>lesao_corp_dolosa</th>\n",
              "      <th>estupro</th>\n",
              "      <th>hom_culposo</th>\n",
              "      <th>lesao_corp_culposa</th>\n",
              "      <th>roubo_comercio</th>\n",
              "      <th>roubo_residencia</th>\n",
              "      <th>roubo_veiculo</th>\n",
              "      <th>roubo_carga</th>\n",
              "      <th>roubo_transeunte</th>\n",
              "      <th>roubo_em_coletivo</th>\n",
              "      <th>roubo_banco</th>\n",
              "      <th>roubo_cx_eletronico</th>\n",
              "      <th>roubo_celular</th>\n",
              "      <th>roubo_conducao_saque</th>\n",
              "      <th>roubo_apos_saque</th>\n",
              "      <th>roubo_bicicleta</th>\n",
              "      <th>outros_roubos</th>\n",
              "      <th>total_roubos</th>\n",
              "      <th>furto_veiculos</th>\n",
              "      <th>furto_transeunte</th>\n",
              "      <th>furto_coletivo</th>\n",
              "      <th>furto_celular</th>\n",
              "      <th>furto_bicicleta</th>\n",
              "      <th>outros_furtos</th>\n",
              "      <th>total_furtos</th>\n",
              "      <th>sequestro</th>\n",
              "      <th>extorsao</th>\n",
              "      <th>sequestro_relampago</th>\n",
              "      <th>estelionato</th>\n",
              "      <th>apreensao_drogas</th>\n",
              "      <th>posse_drogas</th>\n",
              "      <th>trafico_drogas</th>\n",
              "      <th>apreensao_drogas_sem_autor</th>\n",
              "      <th>recuperacao_veiculos</th>\n",
              "      <th>apf</th>\n",
              "      <th>aaapai</th>\n",
              "      <th>cmp</th>\n",
              "      <th>cmba</th>\n",
              "      <th>ameaca</th>\n",
              "      <th>pessoas_desaparecidas</th>\n",
              "      <th>encontro_cadaver</th>\n",
              "      <th>encontro_ossada</th>\n",
              "      <th>pol_militares_mortos_serv</th>\n",
              "      <th>pol_civis_mortos_serv</th>\n",
              "      <th>indicador_letalidade</th>\n",
              "      <th>indicador_roubo_rua</th>\n",
              "      <th>indicador_roubo_veic</th>\n",
              "      <th>registro_ocorrencias</th>\n",
              "      <th>fase</th>\n",
              "    </tr>\n",
              "  </thead>\n",
              "  <tbody>\n",
              "    <tr>\n",
              "      <th>13</th>\n",
              "      <td>1992</td>\n",
              "      <td>2</td>\n",
              "      <td>691</td>\n",
              "      <td>NaN</td>\n",
              "      <td>27</td>\n",
              "      <td>NaN</td>\n",
              "      <td>184</td>\n",
              "      <td>3413</td>\n",
              "      <td>NaN</td>\n",
              "      <td>NaN</td>\n",
              "      <td>NaN</td>\n",
              "      <td>613</td>\n",
              "      <td>300</td>\n",
              "      <td>1877</td>\n",
              "      <td>200</td>\n",
              "      <td>967</td>\n",
              "      <td>426</td>\n",
              "      <td>28</td>\n",
              "      <td>NaN</td>\n",
              "      <td>NaN</td>\n",
              "      <td>NaN</td>\n",
              "      <td>NaN</td>\n",
              "      <td>NaN</td>\n",
              "      <td>139</td>\n",
              "      <td>4550</td>\n",
              "      <td>2236</td>\n",
              "      <td>937</td>\n",
              "      <td>NaN</td>\n",
              "      <td>NaN</td>\n",
              "      <td>NaN</td>\n",
              "      <td>3713</td>\n",
              "      <td>6886</td>\n",
              "      <td>NaN</td>\n",
              "      <td>NaN</td>\n",
              "      <td>NaN</td>\n",
              "      <td>NaN</td>\n",
              "      <td>154</td>\n",
              "      <td>NaN</td>\n",
              "      <td>NaN</td>\n",
              "      <td>NaN</td>\n",
              "      <td>917</td>\n",
              "      <td>NaN</td>\n",
              "      <td>NaN</td>\n",
              "      <td>NaN</td>\n",
              "      <td>NaN</td>\n",
              "      <td>NaN</td>\n",
              "      <td>NaN</td>\n",
              "      <td>90</td>\n",
              "      <td>NaN</td>\n",
              "      <td>NaN</td>\n",
              "      <td>NaN</td>\n",
              "      <td>718</td>\n",
              "      <td>1393</td>\n",
              "      <td>1877</td>\n",
              "      <td>NaN</td>\n",
              "      <td>3</td>\n",
              "    </tr>\n",
              "  </tbody>\n",
              "</table>\n",
              "</div>"
            ],
            "text/plain": [
              "    vano  mes  hom_doloso  ...  indicador_roubo_veic  registro_ocorrencias  fase\n",
              "13  1992    2         691  ...                  1877                   NaN     3\n",
              "\n",
              "[1 rows x 56 columns]"
            ]
          },
          "metadata": {
            "tags": []
          },
          "execution_count": 16
        }
      ]
    },
    {
      "cell_type": "markdown",
      "metadata": {
        "id": "-WKPV10myc0K"
      },
      "source": [
        " Também temos o mês de *fevereiro* de **1992** como o ano de maior registro de roubos a residências no nosso dataset."
      ]
    },
    {
      "cell_type": "markdown",
      "metadata": {
        "id": "oFUWl_pAyuCY"
      },
      "source": [
        "### Visualização dos Dados de Roubos a Residências\r\n",
        "\r\n",
        "Vamos visualizar a variável `roubo_residencia` no histograma abaixo."
      ]
    },
    {
      "cell_type": "code",
      "metadata": {
        "colab": {
          "base_uri": "https://localhost:8080/",
          "height": 265
        },
        "id": "omJm-o9q-XnN",
        "outputId": "9bd987aa-08e7-4fd4-cfef-fddc2e0b00ce"
      },
      "source": [
        "# Plotar histograma de roubo_residencia\r\n",
        "df.roubo_residencia.hist();"
      ],
      "execution_count": 18,
      "outputs": [
        {
          "output_type": "display_data",
          "data": {
            "image/png": "[encoded data removed]",
            "text/plain": [
              "<Figure size 432x288 with 1 Axes>"
            ]
          },
          "metadata": {
            "tags": [],
            "needs_background": "light"
          }
        }
      ]
    },
    {
      "cell_type": "markdown",
      "metadata": {
        "id": "rpgaZ4aT-tPT"
      },
      "source": [
        "Podemos verificar algumas informações interessantes no histograma acima:\r\n",
        "\r\n",
        "* Mais de **80** meses com o número de roubos em residências entre 100-125.\r\n",
        "\r\n",
        "\r\n",
        "* Menos de **5** meses com 300 registros de roubos a residências.\r\n",
        "\r\n",
        "\r\n",
        "\r\n",
        "\r\n"
      ]
    },
    {
      "cell_type": "markdown",
      "metadata": {
        "id": "i3kUYIw4Au85"
      },
      "source": [
        "Vamos analisar essa mesma variável em um gráfico de linhas."
      ]
    },
    {
      "cell_type": "code",
      "metadata": {
        "colab": {
          "base_uri": "https://localhost:8080/",
          "height": 265
        },
        "id": "p1zDNKXAA8it",
        "outputId": "413b67f0-8fcd-44b4-a7e5-f3ebaa7cd06b"
      },
      "source": [
        "# Plotar gráfico de linhas para roubo_residências\r\n",
        "df.roubo_residencia.plot();"
      ],
      "execution_count": 19,
      "outputs": [
        {
          "output_type": "display_data",
          "data": {
            "image/png": "[encoded data removed]",
            "text/plain": [
              "<Figure size 432x288 with 1 Axes>"
            ]
          },
          "metadata": {
            "tags": [],
            "needs_background": "light"
          }
        }
      ]
    },
    {
      "cell_type": "markdown",
      "metadata": {
        "id": "GI7or_h6BuhW"
      },
      "source": [
        "Através do grafico de linhas acima, podemos concluir que o número de roubos a residências vem diminuindo desde o inicio de coletas de dados do nosso dataset."
      ]
    },
    {
      "cell_type": "markdown",
      "metadata": {
        "id": "dFB5E7GoKdyk"
      },
      "source": [
        "Conclusão\r\n",
        "\r\n",
        "Os dados coletados referentes a violência na cidade do Rio de Janeiro, nos deram uma excelente noção dos números reais dos crimes cometidos na cidade.\r\n",
        "\r\n",
        "Percebeu se o quanto o cidadão fica vulnerável a esses tipos de crimes e como é muito importante termos um controle sobre esses dados, para pudermos analisar as variáveis registradas e estudarmos uma solução para a diminuição destes tipos de crimes."
      ]
    }
  ]
}